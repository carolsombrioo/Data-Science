{
  "cells": [
    {
      "cell_type": "markdown",
      "metadata": {
        "id": "view-in-github",
        "colab_type": "text"
      },
      "source": [
        "<a href=\"https://colab.research.google.com/github/carolsombrioo/Data-Science/blob/main/Analisando_os_Dados_do_Airbnb_Quebec_Canada.ipynb\" target=\"_parent\"><img src=\"https://colab.research.google.com/assets/colab-badge.svg\" alt=\"Open In Colab\"/></a>"
      ]
    },
    {
      "cell_type": "markdown",
      "metadata": {
        "id": "kLI0gJtzDGuQ"
      },
      "source": [
        "\n",
        "---\n",
        "\n",
        "# Análise de Dados Exploratórios do Airbnb\n",
        "\n",
        "O [Airbnb](https://www.airbnb.com.br/) já é considerado como sendo a **maior empresa hoteleira da atualidade**. Ah, o detalhe é que ele **não possui nenhum hotel**!\n",
        "\n",
        "Conectando pessoas que querem viajar (e se hospedar) com anfitriões que querem alugar seus imóveis de maneira prática, o Airbnb fornece uma plataforma inovadora para tornar essa hospedagem alternativa.\n",
        "\n",
        "No final de 2018, a Startup fundada 10 anos atrás, já havia **hospedado mais de 300 milhões** de pessoas ao redor de todo o mundo, desafiando as redes hoteleiras tradicionais.\n",
        "\n",
        "Uma das iniciativas do Airbnb é disponibilizar dados do site, para algumas das principais cidades do mundo. Por meio do portal [Inside Airbnb](http://insideairbnb.com/get-the-data.html), é possível baixar uma grande quantidade de dados para desenvolver projetos e soluções de *Data Science*.\n",
        "\n",
        "<center><img alt=\"Analisando Airbnb\" width=\"10%\" src=\"https://www.area360.com.au/wp-content/uploads/2017/09/airbnb-logo.jpg\"></center>\n",
        "\n"
      ]
    },
    {
      "cell_type": "markdown",
      "source": [
        "## Região de Quebec Canadá\n",
        "Considerada uma das cidades mais antigas da America do note, localizada no leste do Canada, o nome Quebec foi dado pela primeira vez à cidade em 1608 e derivado de uma palavra algonquiana que significa \"onde o rio se estreita\". Segundo o jornal Britannica Quebec é a maior da 10 provincias do Canada em área e perde apenas para Ontário em população."
      ],
      "metadata": {
        "id": "Vd7kJd31n0ea"
      }
    },
    {
      "cell_type": "markdown",
      "metadata": {
        "id": "0zxQHhIUDF_2"
      },
      "source": [
        "## Obtenção dos Dados\n"
      ]
    },
    {
      "cell_type": "code",
      "execution_count": null,
      "metadata": {
        "id": "Vhp2wMPgJ6zX"
      },
      "outputs": [],
      "source": [
        "# importar os pacotes necessarios\n",
        "import pandas as pd\n",
        "import matplotlib.pyplot as plt\n",
        "import seaborn as sns\n",
        "\n",
        "%matplotlib inline"
      ]
    },
    {
      "cell_type": "code",
      "execution_count": null,
      "metadata": {
        "id": "tUmoAT8DLQ5T"
      },
      "outputs": [],
      "source": [
        "# importar o arquivo listings.csv para um DataFrame\n",
        "df = pd.read_csv(\"http://data.insideairbnb.com/canada/qc/quebec-city/2023-07-06/visualisations/listings.csv\")"
      ]
    },
    {
      "cell_type": "markdown",
      "metadata": {
        "id": "RYgvuebKNg8-"
      },
      "source": [
        "**Dicionário das variáveis**\n",
        "\n",
        "* id - Número do id para identificar o imóvel\n",
        "* name - Nome da Propriedade anunciada\n",
        "* hot_id - Número de id do proprietário da propriedade\n",
        "* host_name - Nome do anfitrião\n",
        "* neighbourhood_group - Não possui valores válidos\n",
        "* neighbourhood - Nome do bairro\n",
        "* latitude - Coordenada da latitude da propriedade\n",
        "* longitude - Coordenada da longitude da propriedade\n",
        "* room_type - Informa o tipo de quarto que é oferecido\n",
        "* price - Preço para alugar o imóvel\n",
        "* minimum_nights - Quantidade mínima de noites para reservar\n",
        "* number_of_reviews - Número de reviews que a propriedade possui\n",
        "* last_review - Data do último review\n",
        "* reviews_per_month - Quantidade de reviews por mês\n",
        "* calculated_host_listings_count - Quantidade de imóveis do mesmo anfitrião\n",
        "* availability_365 - Número de dias de disponibilidade dentro de 365 dias\n",
        "* number_of_reviews_ltm - Quantidade de avaliações nos últimos 12 meses\n",
        "* license - Número de registro do imóvel\n",
        "\n",
        "Antes de iniciar qualquer análise, vamos verificar a cara do nosso *dataset*, analisando as 5 primeiras entradas."
      ]
    },
    {
      "cell_type": "code",
      "execution_count": null,
      "metadata": {
        "colab": {
          "base_uri": "https://localhost:8080/",
          "height": 617
        },
        "id": "2iS_dae7YQtO",
        "outputId": "603827dc-420f-4fe8-f3a9-ae5b5525c889"
      },
      "outputs": [
        {
          "output_type": "execute_result",
          "data": {
            "text/plain": [
              "       id                                               name  host_id  \\\n",
              "0  138381  Bed and breakfast in Quebec · ★4.91 · 1 bedroo...   675584   \n",
              "1  198548  Rental unit in Quebec · ★4.75 · 1 bedroom · 1 ...   960772   \n",
              "2  214967  Townhouse in Quebec · ★4.95 · 1 bedroom · 1 be...  1110010   \n",
              "3  348647  Bed and breakfast in Quebec · ★4.74 · 1 bedroo...  1764323   \n",
              "4  361573  Bed and breakfast in Quebec · ★4.78 · 1 bedroo...  1764323   \n",
              "\n",
              "  host_name  neighbourhood_group  \\\n",
              "0      Mary                  NaN   \n",
              "1  Marianne                  NaN   \n",
              "2     Julie                  NaN   \n",
              "3    Gilles                  NaN   \n",
              "4    Gilles                  NaN   \n",
              "\n",
              "                                  neighbourhood  latitude  longitude  \\\n",
              "0                                       Sillery  46.76851  -71.26804   \n",
              "1                                    Saint-Roch  46.81169  -71.22522   \n",
              "2  Vieux-Québec/Cap-Blanc/Colline parlementaire  46.80233  -71.21214   \n",
              "3  Vieux-Québec/Cap-Blanc/Colline parlementaire  46.81504  -71.20562   \n",
              "4  Vieux-Québec/Cap-Blanc/Colline parlementaire  46.81570  -71.20504   \n",
              "\n",
              "         room_type  price  minimum_nights  number_of_reviews last_review  \\\n",
              "0     Private room    185               2                175  2022-09-05   \n",
              "1  Entire home/apt    150              31                 56  2023-03-25   \n",
              "2     Private room     74              32                197  2023-04-15   \n",
              "3     Private room    225               1                176  2023-07-03   \n",
              "4     Private room    150               1                 72  2022-09-18   \n",
              "\n",
              "   reviews_per_month  calculated_host_listings_count  availability_365  \\\n",
              "0               1.19                               3               337   \n",
              "1               0.39                               1               132   \n",
              "2               1.49                               1               356   \n",
              "3               1.28                               2                75   \n",
              "4               0.53                               2                50   \n",
              "\n",
              "   number_of_reviews_ltm license  \n",
              "0                      7     NaN  \n",
              "1                      3     NaN  \n",
              "2                     22     NaN  \n",
              "3                     17     NaN  \n",
              "4                      2  125930  "
            ],
            "text/html": [
              "\n",
              "\n",
              "  <div id=\"df-e8138429-9877-4919-82e5-83105db765bb\">\n",
              "    <div class=\"colab-df-container\">\n",
              "      <div>\n",
              "<style scoped>\n",
              "    .dataframe tbody tr th:only-of-type {\n",
              "        vertical-align: middle;\n",
              "    }\n",
              "\n",
              "    .dataframe tbody tr th {\n",
              "        vertical-align: top;\n",
              "    }\n",
              "\n",
              "    .dataframe thead th {\n",
              "        text-align: right;\n",
              "    }\n",
              "</style>\n",
              "<table border=\"1\" class=\"dataframe\">\n",
              "  <thead>\n",
              "    <tr style=\"text-align: right;\">\n",
              "      <th></th>\n",
              "      <th>id</th>\n",
              "      <th>name</th>\n",
              "      <th>host_id</th>\n",
              "      <th>host_name</th>\n",
              "      <th>neighbourhood_group</th>\n",
              "      <th>neighbourhood</th>\n",
              "      <th>latitude</th>\n",
              "      <th>longitude</th>\n",
              "      <th>room_type</th>\n",
              "      <th>price</th>\n",
              "      <th>minimum_nights</th>\n",
              "      <th>number_of_reviews</th>\n",
              "      <th>last_review</th>\n",
              "      <th>reviews_per_month</th>\n",
              "      <th>calculated_host_listings_count</th>\n",
              "      <th>availability_365</th>\n",
              "      <th>number_of_reviews_ltm</th>\n",
              "      <th>license</th>\n",
              "    </tr>\n",
              "  </thead>\n",
              "  <tbody>\n",
              "    <tr>\n",
              "      <th>0</th>\n",
              "      <td>138381</td>\n",
              "      <td>Bed and breakfast in Quebec · ★4.91 · 1 bedroo...</td>\n",
              "      <td>675584</td>\n",
              "      <td>Mary</td>\n",
              "      <td>NaN</td>\n",
              "      <td>Sillery</td>\n",
              "      <td>46.76851</td>\n",
              "      <td>-71.26804</td>\n",
              "      <td>Private room</td>\n",
              "      <td>185</td>\n",
              "      <td>2</td>\n",
              "      <td>175</td>\n",
              "      <td>2022-09-05</td>\n",
              "      <td>1.19</td>\n",
              "      <td>3</td>\n",
              "      <td>337</td>\n",
              "      <td>7</td>\n",
              "      <td>NaN</td>\n",
              "    </tr>\n",
              "    <tr>\n",
              "      <th>1</th>\n",
              "      <td>198548</td>\n",
              "      <td>Rental unit in Quebec · ★4.75 · 1 bedroom · 1 ...</td>\n",
              "      <td>960772</td>\n",
              "      <td>Marianne</td>\n",
              "      <td>NaN</td>\n",
              "      <td>Saint-Roch</td>\n",
              "      <td>46.81169</td>\n",
              "      <td>-71.22522</td>\n",
              "      <td>Entire home/apt</td>\n",
              "      <td>150</td>\n",
              "      <td>31</td>\n",
              "      <td>56</td>\n",
              "      <td>2023-03-25</td>\n",
              "      <td>0.39</td>\n",
              "      <td>1</td>\n",
              "      <td>132</td>\n",
              "      <td>3</td>\n",
              "      <td>NaN</td>\n",
              "    </tr>\n",
              "    <tr>\n",
              "      <th>2</th>\n",
              "      <td>214967</td>\n",
              "      <td>Townhouse in Quebec · ★4.95 · 1 bedroom · 1 be...</td>\n",
              "      <td>1110010</td>\n",
              "      <td>Julie</td>\n",
              "      <td>NaN</td>\n",
              "      <td>Vieux-Québec/Cap-Blanc/Colline parlementaire</td>\n",
              "      <td>46.80233</td>\n",
              "      <td>-71.21214</td>\n",
              "      <td>Private room</td>\n",
              "      <td>74</td>\n",
              "      <td>32</td>\n",
              "      <td>197</td>\n",
              "      <td>2023-04-15</td>\n",
              "      <td>1.49</td>\n",
              "      <td>1</td>\n",
              "      <td>356</td>\n",
              "      <td>22</td>\n",
              "      <td>NaN</td>\n",
              "    </tr>\n",
              "    <tr>\n",
              "      <th>3</th>\n",
              "      <td>348647</td>\n",
              "      <td>Bed and breakfast in Quebec · ★4.74 · 1 bedroo...</td>\n",
              "      <td>1764323</td>\n",
              "      <td>Gilles</td>\n",
              "      <td>NaN</td>\n",
              "      <td>Vieux-Québec/Cap-Blanc/Colline parlementaire</td>\n",
              "      <td>46.81504</td>\n",
              "      <td>-71.20562</td>\n",
              "      <td>Private room</td>\n",
              "      <td>225</td>\n",
              "      <td>1</td>\n",
              "      <td>176</td>\n",
              "      <td>2023-07-03</td>\n",
              "      <td>1.28</td>\n",
              "      <td>2</td>\n",
              "      <td>75</td>\n",
              "      <td>17</td>\n",
              "      <td>NaN</td>\n",
              "    </tr>\n",
              "    <tr>\n",
              "      <th>4</th>\n",
              "      <td>361573</td>\n",
              "      <td>Bed and breakfast in Quebec · ★4.78 · 1 bedroo...</td>\n",
              "      <td>1764323</td>\n",
              "      <td>Gilles</td>\n",
              "      <td>NaN</td>\n",
              "      <td>Vieux-Québec/Cap-Blanc/Colline parlementaire</td>\n",
              "      <td>46.81570</td>\n",
              "      <td>-71.20504</td>\n",
              "      <td>Private room</td>\n",
              "      <td>150</td>\n",
              "      <td>1</td>\n",
              "      <td>72</td>\n",
              "      <td>2022-09-18</td>\n",
              "      <td>0.53</td>\n",
              "      <td>2</td>\n",
              "      <td>50</td>\n",
              "      <td>2</td>\n",
              "      <td>125930</td>\n",
              "    </tr>\n",
              "  </tbody>\n",
              "</table>\n",
              "</div>\n",
              "      <button class=\"colab-df-convert\" onclick=\"convertToInteractive('df-e8138429-9877-4919-82e5-83105db765bb')\"\n",
              "              title=\"Convert this dataframe to an interactive table.\"\n",
              "              style=\"display:none;\">\n",
              "\n",
              "  <svg xmlns=\"http://www.w3.org/2000/svg\" height=\"24px\"viewBox=\"0 0 24 24\"\n",
              "       width=\"24px\">\n",
              "    <path d=\"M0 0h24v24H0V0z\" fill=\"none\"/>\n",
              "    <path d=\"M18.56 5.44l.94 2.06.94-2.06 2.06-.94-2.06-.94-.94-2.06-.94 2.06-2.06.94zm-11 1L8.5 8.5l.94-2.06 2.06-.94-2.06-.94L8.5 2.5l-.94 2.06-2.06.94zm10 10l.94 2.06.94-2.06 2.06-.94-2.06-.94-.94-2.06-.94 2.06-2.06.94z\"/><path d=\"M17.41 7.96l-1.37-1.37c-.4-.4-.92-.59-1.43-.59-.52 0-1.04.2-1.43.59L10.3 9.45l-7.72 7.72c-.78.78-.78 2.05 0 2.83L4 21.41c.39.39.9.59 1.41.59.51 0 1.02-.2 1.41-.59l7.78-7.78 2.81-2.81c.8-.78.8-2.07 0-2.86zM5.41 20L4 18.59l7.72-7.72 1.47 1.35L5.41 20z\"/>\n",
              "  </svg>\n",
              "      </button>\n",
              "\n",
              "\n",
              "\n",
              "    <div id=\"df-2f4ec213-d7ea-4fb5-b346-96216445bd65\">\n",
              "      <button class=\"colab-df-quickchart\" onclick=\"quickchart('df-2f4ec213-d7ea-4fb5-b346-96216445bd65')\"\n",
              "              title=\"Suggest charts.\"\n",
              "              style=\"display:none;\">\n",
              "\n",
              "<svg xmlns=\"http://www.w3.org/2000/svg\" height=\"24px\"viewBox=\"0 0 24 24\"\n",
              "     width=\"24px\">\n",
              "    <g>\n",
              "        <path d=\"M19 3H5c-1.1 0-2 .9-2 2v14c0 1.1.9 2 2 2h14c1.1 0 2-.9 2-2V5c0-1.1-.9-2-2-2zM9 17H7v-7h2v7zm4 0h-2V7h2v10zm4 0h-2v-4h2v4z\"/>\n",
              "    </g>\n",
              "</svg>\n",
              "      </button>\n",
              "    </div>\n",
              "\n",
              "<style>\n",
              "  .colab-df-quickchart {\n",
              "    background-color: #E8F0FE;\n",
              "    border: none;\n",
              "    border-radius: 50%;\n",
              "    cursor: pointer;\n",
              "    display: none;\n",
              "    fill: #1967D2;\n",
              "    height: 32px;\n",
              "    padding: 0 0 0 0;\n",
              "    width: 32px;\n",
              "  }\n",
              "\n",
              "  .colab-df-quickchart:hover {\n",
              "    background-color: #E2EBFA;\n",
              "    box-shadow: 0px 1px 2px rgba(60, 64, 67, 0.3), 0px 1px 3px 1px rgba(60, 64, 67, 0.15);\n",
              "    fill: #174EA6;\n",
              "  }\n",
              "\n",
              "  [theme=dark] .colab-df-quickchart {\n",
              "    background-color: #3B4455;\n",
              "    fill: #D2E3FC;\n",
              "  }\n",
              "\n",
              "  [theme=dark] .colab-df-quickchart:hover {\n",
              "    background-color: #434B5C;\n",
              "    box-shadow: 0px 1px 3px 1px rgba(0, 0, 0, 0.15);\n",
              "    filter: drop-shadow(0px 1px 2px rgba(0, 0, 0, 0.3));\n",
              "    fill: #FFFFFF;\n",
              "  }\n",
              "</style>\n",
              "\n",
              "    <script>\n",
              "      async function quickchart(key) {\n",
              "        const containerElement = document.querySelector('#' + key);\n",
              "        const charts = await google.colab.kernel.invokeFunction(\n",
              "            'suggestCharts', [key], {});\n",
              "      }\n",
              "    </script>\n",
              "\n",
              "      <script>\n",
              "\n",
              "function displayQuickchartButton(domScope) {\n",
              "  let quickchartButtonEl =\n",
              "    domScope.querySelector('#df-2f4ec213-d7ea-4fb5-b346-96216445bd65 button.colab-df-quickchart');\n",
              "  quickchartButtonEl.style.display =\n",
              "    google.colab.kernel.accessAllowed ? 'block' : 'none';\n",
              "}\n",
              "\n",
              "        displayQuickchartButton(document);\n",
              "      </script>\n",
              "      <style>\n",
              "    .colab-df-container {\n",
              "      display:flex;\n",
              "      flex-wrap:wrap;\n",
              "      gap: 12px;\n",
              "    }\n",
              "\n",
              "    .colab-df-convert {\n",
              "      background-color: #E8F0FE;\n",
              "      border: none;\n",
              "      border-radius: 50%;\n",
              "      cursor: pointer;\n",
              "      display: none;\n",
              "      fill: #1967D2;\n",
              "      height: 32px;\n",
              "      padding: 0 0 0 0;\n",
              "      width: 32px;\n",
              "    }\n",
              "\n",
              "    .colab-df-convert:hover {\n",
              "      background-color: #E2EBFA;\n",
              "      box-shadow: 0px 1px 2px rgba(60, 64, 67, 0.3), 0px 1px 3px 1px rgba(60, 64, 67, 0.15);\n",
              "      fill: #174EA6;\n",
              "    }\n",
              "\n",
              "    [theme=dark] .colab-df-convert {\n",
              "      background-color: #3B4455;\n",
              "      fill: #D2E3FC;\n",
              "    }\n",
              "\n",
              "    [theme=dark] .colab-df-convert:hover {\n",
              "      background-color: #434B5C;\n",
              "      box-shadow: 0px 1px 3px 1px rgba(0, 0, 0, 0.15);\n",
              "      filter: drop-shadow(0px 1px 2px rgba(0, 0, 0, 0.3));\n",
              "      fill: #FFFFFF;\n",
              "    }\n",
              "  </style>\n",
              "\n",
              "      <script>\n",
              "        const buttonEl =\n",
              "          document.querySelector('#df-e8138429-9877-4919-82e5-83105db765bb button.colab-df-convert');\n",
              "        buttonEl.style.display =\n",
              "          google.colab.kernel.accessAllowed ? 'block' : 'none';\n",
              "\n",
              "        async function convertToInteractive(key) {\n",
              "          const element = document.querySelector('#df-e8138429-9877-4919-82e5-83105db765bb');\n",
              "          const dataTable =\n",
              "            await google.colab.kernel.invokeFunction('convertToInteractive',\n",
              "                                                     [key], {});\n",
              "          if (!dataTable) return;\n",
              "\n",
              "          const docLinkHtml = 'Like what you see? Visit the ' +\n",
              "            '<a target=\"_blank\" href=https://colab.research.google.com/notebooks/data_table.ipynb>data table notebook</a>'\n",
              "            + ' to learn more about interactive tables.';\n",
              "          element.innerHTML = '';\n",
              "          dataTable['output_type'] = 'display_data';\n",
              "          await google.colab.output.renderOutput(dataTable, element);\n",
              "          const docLink = document.createElement('div');\n",
              "          docLink.innerHTML = docLinkHtml;\n",
              "          element.appendChild(docLink);\n",
              "        }\n",
              "      </script>\n",
              "    </div>\n",
              "  </div>\n"
            ]
          },
          "metadata": {},
          "execution_count": 206
        }
      ],
      "source": [
        "# mostrar as 5 primeiras entradas\n",
        "df.head()"
      ]
    },
    {
      "cell_type": "markdown",
      "metadata": {
        "id": "8WDHrSo7fxFX"
      },
      "source": [
        "## Análise dos Dados\n"
      ]
    },
    {
      "cell_type": "markdown",
      "metadata": {
        "id": "6-B_qtEaYEd-"
      },
      "source": [
        "### **Q1. Quantos atributos e quantas entradas o nosso conjunto de dados possui? Quais são os tipos das variáveis?**"
      ]
    },
    {
      "cell_type": "code",
      "execution_count": null,
      "metadata": {
        "colab": {
          "base_uri": "https://localhost:8080/",
          "height": 423
        },
        "id": "TFRK0tniLV-G",
        "outputId": "50862220-a40b-48d9-b785-98511433e676"
      },
      "outputs": [
        {
          "output_type": "stream",
          "name": "stdout",
          "text": [
            "Entradas:\t 2190\n",
            "Variáveis:\t 18\n",
            "\n"
          ]
        },
        {
          "output_type": "display_data",
          "data": {
            "text/plain": [
              "id                                  int64\n",
              "name                               object\n",
              "host_id                             int64\n",
              "host_name                          object\n",
              "neighbourhood_group               float64\n",
              "neighbourhood                      object\n",
              "latitude                          float64\n",
              "longitude                         float64\n",
              "room_type                          object\n",
              "price                               int64\n",
              "minimum_nights                      int64\n",
              "number_of_reviews                   int64\n",
              "last_review                        object\n",
              "reviews_per_month                 float64\n",
              "calculated_host_listings_count      int64\n",
              "availability_365                    int64\n",
              "number_of_reviews_ltm               int64\n",
              "license                            object\n",
              "dtype: object"
            ]
          },
          "metadata": {}
        }
      ],
      "source": [
        "# identificar o volume de dados do DataFrame\n",
        "print(\"Entradas:\\t {}\".format(df.shape[0]))\n",
        "print(\"Variáveis:\\t {}\\n\".format(df.shape[1]))\n",
        "\n",
        "# verificando os tipos das variáveis\n",
        "display(df.dtypes)"
      ]
    },
    {
      "cell_type": "markdown",
      "metadata": {
        "id": "yz1urSUGW9iE"
      },
      "source": [
        "### **Q2. Qual a porcentagem de valores ausentes no *dataset*?**"
      ]
    },
    {
      "cell_type": "code",
      "execution_count": null,
      "metadata": {
        "colab": {
          "base_uri": "https://localhost:8080/"
        },
        "id": "plk2FjbCXOqP",
        "outputId": "6ba0e556-d10c-4a52-f443-a949e3fa842b"
      },
      "outputs": [
        {
          "output_type": "execute_result",
          "data": {
            "text/plain": [
              "neighbourhood_group               1.000000\n",
              "license                           0.281735\n",
              "reviews_per_month                 0.142922\n",
              "last_review                       0.142922\n",
              "minimum_nights                    0.000000\n",
              "number_of_reviews_ltm             0.000000\n",
              "availability_365                  0.000000\n",
              "calculated_host_listings_count    0.000000\n",
              "number_of_reviews                 0.000000\n",
              "id                                0.000000\n",
              "name                              0.000000\n",
              "room_type                         0.000000\n",
              "longitude                         0.000000\n",
              "latitude                          0.000000\n",
              "neighbourhood                     0.000000\n",
              "host_name                         0.000000\n",
              "host_id                           0.000000\n",
              "price                             0.000000\n",
              "dtype: float64"
            ]
          },
          "metadata": {},
          "execution_count": 208
        }
      ],
      "source": [
        "# ordenar em ordem decrescente as variáveis por seus valores ausentes\n",
        "(df.isnull().sum() / df.shape[0]).sort_values(ascending=False)"
      ]
    },
    {
      "cell_type": "markdown",
      "metadata": {
        "id": "1sSMdkz8ioIp"
      },
      "source": [
        "Identificamos que a coluna 'neighbourhood_group' possui 100 % dos seus dados ausentes, então vamos exclui-la. A variável 'license' e 'last_review' também vamos realizar a exclusão, pois não será relevante para a nossa análise.\n",
        "Já a coluna 'reviews_per_month', pode ser interessante manter em nossa análise e os seus valores nulos são porquê os imóveis ainda não receberam nenhuma nota, então vamos preencher esses dados com 0.\n",
        "\n",
        "\n"
      ]
    },
    {
      "cell_type": "code",
      "execution_count": null,
      "metadata": {
        "id": "3-VBwy1uGmad"
      },
      "outputs": [],
      "source": [
        "# excluindo colunas com dados faltantes\n",
        "df.drop(columns=['neighbourhood_group', 'license','last_review',], inplace=True)\n",
        "\n",
        "# excluindo entradas com dados faltantes\n",
        "df.dropna(axis=0, inplace=True)\n",
        "\n",
        "# convertendo os tipos de dados\n",
        "df[['price', 'latitude', 'longitude']] = df[['price', 'latitude', 'longitude']].astype('float')"
      ]
    },
    {
      "cell_type": "code",
      "execution_count": null,
      "metadata": {
        "id": "FouOhC8rll1v"
      },
      "outputs": [],
      "source": [
        "# vamos preencher os dados de 'reviews_per_month' por 0\n",
        "df['reviews_per_month'].fillna(0, inplace=True)"
      ]
    },
    {
      "cell_type": "code",
      "execution_count": null,
      "metadata": {
        "colab": {
          "base_uri": "https://localhost:8080/"
        },
        "id": "vFHluQ3XIMmF",
        "outputId": "094552f8-cd5e-415e-d8aa-5122df6de60b"
      },
      "outputs": [
        {
          "output_type": "execute_result",
          "data": {
            "text/plain": [
              "id                                  int64\n",
              "name                               object\n",
              "host_id                             int64\n",
              "host_name                          object\n",
              "neighbourhood                      object\n",
              "latitude                          float64\n",
              "longitude                         float64\n",
              "room_type                          object\n",
              "price                             float64\n",
              "minimum_nights                      int64\n",
              "number_of_reviews                   int64\n",
              "reviews_per_month                 float64\n",
              "calculated_host_listings_count      int64\n",
              "availability_365                    int64\n",
              "number_of_reviews_ltm               int64\n",
              "dtype: object"
            ]
          },
          "metadata": {},
          "execution_count": 211
        }
      ],
      "source": [
        "# verificando o resultado\n",
        "df.dtypes"
      ]
    },
    {
      "cell_type": "markdown",
      "metadata": {
        "id": "iHXvvHIxaoNc"
      },
      "source": [
        "### **Q3. Qual o tipo de distribuição das variáveis?**"
      ]
    },
    {
      "cell_type": "code",
      "execution_count": null,
      "metadata": {
        "colab": {
          "base_uri": "https://localhost:8080/",
          "height": 853
        },
        "id": "q2wWSfeRbmBo",
        "outputId": "f84c4b48-943f-465c-f73d-05a0e1c8d3a3"
      },
      "outputs": [
        {
          "output_type": "display_data",
          "data": {
            "text/plain": [
              "<Figure size 1500x1000 with 12 Axes>"
            ],
            "image/png": "[encoded data removed]"
          },
          "metadata": {}
        }
      ],
      "source": [
        "# plotar o histograma das variáveis numéricas\n",
        "df.hist(bins=15, figsize=(15,10));"
      ]
    },
    {
      "cell_type": "markdown",
      "metadata": {
        "id": "JF_jL-g6RL12"
      },
      "source": [
        "### **Há presença de Outliers?**\n",
        "\n"
      ]
    },
    {
      "cell_type": "markdown",
      "metadata": {
        "id": "rSZiiObrdMcI"
      },
      "source": [
        "Pela distribuição do histograma, é possível verificar indícios da presença de *outliers*. Olhe por exemplo as variáveis `price` e `minimum_nights`\n",
        "\n",
        "Os valores não seguem uma distruição, e distorcem toda a representação gráfica. Para confirmar, há duas maneiras rápidas que auxiliam a detecção de *outliers*. São elas:\n",
        "\n",
        "* Resumo estatístico por meio do método `describe()`\n",
        "* Plotar `boxplots` para a variável."
      ]
    },
    {
      "cell_type": "code",
      "execution_count": null,
      "metadata": {
        "colab": {
          "base_uri": "https://localhost:8080/",
          "height": 300
        },
        "id": "Sia1lIyBKSn8",
        "outputId": "de7b9e2a-1df5-4859-a4dc-189e686ee9b4"
      },
      "outputs": [
        {
          "output_type": "execute_result",
          "data": {
            "text/plain": [
              "             price  minimum_nights  number_of_reviews  reviews_per_month  \\\n",
              "count  1877.000000     1877.000000        1877.000000        1877.000000   \n",
              "mean    228.721364        9.893980          65.949387           2.331257   \n",
              "std     187.782185       42.905521          96.769708           2.178857   \n",
              "min      17.000000        1.000000           1.000000           0.010000   \n",
              "25%     103.000000        1.000000           8.000000           0.490000   \n",
              "50%     175.000000        2.000000          30.000000           1.710000   \n",
              "75%     285.000000        3.000000          83.000000           3.640000   \n",
              "max    1471.000000     1000.000000        1124.000000          15.000000   \n",
              "\n",
              "       calculated_host_listings_count  availability_365  \n",
              "count                     1877.000000       1877.000000  \n",
              "mean                        10.618540        189.429941  \n",
              "std                         17.799207        122.345530  \n",
              "min                          1.000000          0.000000  \n",
              "25%                          1.000000         71.000000  \n",
              "50%                          3.000000        206.000000  \n",
              "75%                          8.000000        308.000000  \n",
              "max                         67.000000        365.000000  "
            ],
            "text/html": [
              "\n",
              "\n",
              "  <div id=\"df-c0fc593c-a711-4007-9b69-13a57a140331\">\n",
              "    <div class=\"colab-df-container\">\n",
              "      <div>\n",
              "<style scoped>\n",
              "    .dataframe tbody tr th:only-of-type {\n",
              "        vertical-align: middle;\n",
              "    }\n",
              "\n",
              "    .dataframe tbody tr th {\n",
              "        vertical-align: top;\n",
              "    }\n",
              "\n",
              "    .dataframe thead th {\n",
              "        text-align: right;\n",
              "    }\n",
              "</style>\n",
              "<table border=\"1\" class=\"dataframe\">\n",
              "  <thead>\n",
              "    <tr style=\"text-align: right;\">\n",
              "      <th></th>\n",
              "      <th>price</th>\n",
              "      <th>minimum_nights</th>\n",
              "      <th>number_of_reviews</th>\n",
              "      <th>reviews_per_month</th>\n",
              "      <th>calculated_host_listings_count</th>\n",
              "      <th>availability_365</th>\n",
              "    </tr>\n",
              "  </thead>\n",
              "  <tbody>\n",
              "    <tr>\n",
              "      <th>count</th>\n",
              "      <td>1877.000000</td>\n",
              "      <td>1877.000000</td>\n",
              "      <td>1877.000000</td>\n",
              "      <td>1877.000000</td>\n",
              "      <td>1877.000000</td>\n",
              "      <td>1877.000000</td>\n",
              "    </tr>\n",
              "    <tr>\n",
              "      <th>mean</th>\n",
              "      <td>228.721364</td>\n",
              "      <td>9.893980</td>\n",
              "      <td>65.949387</td>\n",
              "      <td>2.331257</td>\n",
              "      <td>10.618540</td>\n",
              "      <td>189.429941</td>\n",
              "    </tr>\n",
              "    <tr>\n",
              "      <th>std</th>\n",
              "      <td>187.782185</td>\n",
              "      <td>42.905521</td>\n",
              "      <td>96.769708</td>\n",
              "      <td>2.178857</td>\n",
              "      <td>17.799207</td>\n",
              "      <td>122.345530</td>\n",
              "    </tr>\n",
              "    <tr>\n",
              "      <th>min</th>\n",
              "      <td>17.000000</td>\n",
              "      <td>1.000000</td>\n",
              "      <td>1.000000</td>\n",
              "      <td>0.010000</td>\n",
              "      <td>1.000000</td>\n",
              "      <td>0.000000</td>\n",
              "    </tr>\n",
              "    <tr>\n",
              "      <th>25%</th>\n",
              "      <td>103.000000</td>\n",
              "      <td>1.000000</td>\n",
              "      <td>8.000000</td>\n",
              "      <td>0.490000</td>\n",
              "      <td>1.000000</td>\n",
              "      <td>71.000000</td>\n",
              "    </tr>\n",
              "    <tr>\n",
              "      <th>50%</th>\n",
              "      <td>175.000000</td>\n",
              "      <td>2.000000</td>\n",
              "      <td>30.000000</td>\n",
              "      <td>1.710000</td>\n",
              "      <td>3.000000</td>\n",
              "      <td>206.000000</td>\n",
              "    </tr>\n",
              "    <tr>\n",
              "      <th>75%</th>\n",
              "      <td>285.000000</td>\n",
              "      <td>3.000000</td>\n",
              "      <td>83.000000</td>\n",
              "      <td>3.640000</td>\n",
              "      <td>8.000000</td>\n",
              "      <td>308.000000</td>\n",
              "    </tr>\n",
              "    <tr>\n",
              "      <th>max</th>\n",
              "      <td>1471.000000</td>\n",
              "      <td>1000.000000</td>\n",
              "      <td>1124.000000</td>\n",
              "      <td>15.000000</td>\n",
              "      <td>67.000000</td>\n",
              "      <td>365.000000</td>\n",
              "    </tr>\n",
              "  </tbody>\n",
              "</table>\n",
              "</div>\n",
              "      <button class=\"colab-df-convert\" onclick=\"convertToInteractive('df-c0fc593c-a711-4007-9b69-13a57a140331')\"\n",
              "              title=\"Convert this dataframe to an interactive table.\"\n",
              "              style=\"display:none;\">\n",
              "\n",
              "  <svg xmlns=\"http://www.w3.org/2000/svg\" height=\"24px\"viewBox=\"0 0 24 24\"\n",
              "       width=\"24px\">\n",
              "    <path d=\"M0 0h24v24H0V0z\" fill=\"none\"/>\n",
              "    <path d=\"M18.56 5.44l.94 2.06.94-2.06 2.06-.94-2.06-.94-.94-2.06-.94 2.06-2.06.94zm-11 1L8.5 8.5l.94-2.06 2.06-.94-2.06-.94L8.5 2.5l-.94 2.06-2.06.94zm10 10l.94 2.06.94-2.06 2.06-.94-2.06-.94-.94-2.06-.94 2.06-2.06.94z\"/><path d=\"M17.41 7.96l-1.37-1.37c-.4-.4-.92-.59-1.43-.59-.52 0-1.04.2-1.43.59L10.3 9.45l-7.72 7.72c-.78.78-.78 2.05 0 2.83L4 21.41c.39.39.9.59 1.41.59.51 0 1.02-.2 1.41-.59l7.78-7.78 2.81-2.81c.8-.78.8-2.07 0-2.86zM5.41 20L4 18.59l7.72-7.72 1.47 1.35L5.41 20z\"/>\n",
              "  </svg>\n",
              "      </button>\n",
              "\n",
              "\n",
              "\n",
              "    <div id=\"df-68f9eb05-eeb6-415e-9f74-08bad29f99d1\">\n",
              "      <button class=\"colab-df-quickchart\" onclick=\"quickchart('df-68f9eb05-eeb6-415e-9f74-08bad29f99d1')\"\n",
              "              title=\"Suggest charts.\"\n",
              "              style=\"display:none;\">\n",
              "\n",
              "<svg xmlns=\"http://www.w3.org/2000/svg\" height=\"24px\"viewBox=\"0 0 24 24\"\n",
              "     width=\"24px\">\n",
              "    <g>\n",
              "        <path d=\"M19 3H5c-1.1 0-2 .9-2 2v14c0 1.1.9 2 2 2h14c1.1 0 2-.9 2-2V5c0-1.1-.9-2-2-2zM9 17H7v-7h2v7zm4 0h-2V7h2v10zm4 0h-2v-4h2v4z\"/>\n",
              "    </g>\n",
              "</svg>\n",
              "      </button>\n",
              "    </div>\n",
              "\n",
              "<style>\n",
              "  .colab-df-quickchart {\n",
              "    background-color: #E8F0FE;\n",
              "    border: none;\n",
              "    border-radius: 50%;\n",
              "    cursor: pointer;\n",
              "    display: none;\n",
              "    fill: #1967D2;\n",
              "    height: 32px;\n",
              "    padding: 0 0 0 0;\n",
              "    width: 32px;\n",
              "  }\n",
              "\n",
              "  .colab-df-quickchart:hover {\n",
              "    background-color: #E2EBFA;\n",
              "    box-shadow: 0px 1px 2px rgba(60, 64, 67, 0.3), 0px 1px 3px 1px rgba(60, 64, 67, 0.15);\n",
              "    fill: #174EA6;\n",
              "  }\n",
              "\n",
              "  [theme=dark] .colab-df-quickchart {\n",
              "    background-color: #3B4455;\n",
              "    fill: #D2E3FC;\n",
              "  }\n",
              "\n",
              "  [theme=dark] .colab-df-quickchart:hover {\n",
              "    background-color: #434B5C;\n",
              "    box-shadow: 0px 1px 3px 1px rgba(0, 0, 0, 0.15);\n",
              "    filter: drop-shadow(0px 1px 2px rgba(0, 0, 0, 0.3));\n",
              "    fill: #FFFFFF;\n",
              "  }\n",
              "</style>\n",
              "\n",
              "    <script>\n",
              "      async function quickchart(key) {\n",
              "        const containerElement = document.querySelector('#' + key);\n",
              "        const charts = await google.colab.kernel.invokeFunction(\n",
              "            'suggestCharts', [key], {});\n",
              "      }\n",
              "    </script>\n",
              "\n",
              "      <script>\n",
              "\n",
              "function displayQuickchartButton(domScope) {\n",
              "  let quickchartButtonEl =\n",
              "    domScope.querySelector('#df-68f9eb05-eeb6-415e-9f74-08bad29f99d1 button.colab-df-quickchart');\n",
              "  quickchartButtonEl.style.display =\n",
              "    google.colab.kernel.accessAllowed ? 'block' : 'none';\n",
              "}\n",
              "\n",
              "        displayQuickchartButton(document);\n",
              "      </script>\n",
              "      <style>\n",
              "    .colab-df-container {\n",
              "      display:flex;\n",
              "      flex-wrap:wrap;\n",
              "      gap: 12px;\n",
              "    }\n",
              "\n",
              "    .colab-df-convert {\n",
              "      background-color: #E8F0FE;\n",
              "      border: none;\n",
              "      border-radius: 50%;\n",
              "      cursor: pointer;\n",
              "      display: none;\n",
              "      fill: #1967D2;\n",
              "      height: 32px;\n",
              "      padding: 0 0 0 0;\n",
              "      width: 32px;\n",
              "    }\n",
              "\n",
              "    .colab-df-convert:hover {\n",
              "      background-color: #E2EBFA;\n",
              "      box-shadow: 0px 1px 2px rgba(60, 64, 67, 0.3), 0px 1px 3px 1px rgba(60, 64, 67, 0.15);\n",
              "      fill: #174EA6;\n",
              "    }\n",
              "\n",
              "    [theme=dark] .colab-df-convert {\n",
              "      background-color: #3B4455;\n",
              "      fill: #D2E3FC;\n",
              "    }\n",
              "\n",
              "    [theme=dark] .colab-df-convert:hover {\n",
              "      background-color: #434B5C;\n",
              "      box-shadow: 0px 1px 3px 1px rgba(0, 0, 0, 0.15);\n",
              "      filter: drop-shadow(0px 1px 2px rgba(0, 0, 0, 0.3));\n",
              "      fill: #FFFFFF;\n",
              "    }\n",
              "  </style>\n",
              "\n",
              "      <script>\n",
              "        const buttonEl =\n",
              "          document.querySelector('#df-c0fc593c-a711-4007-9b69-13a57a140331 button.colab-df-convert');\n",
              "        buttonEl.style.display =\n",
              "          google.colab.kernel.accessAllowed ? 'block' : 'none';\n",
              "\n",
              "        async function convertToInteractive(key) {\n",
              "          const element = document.querySelector('#df-c0fc593c-a711-4007-9b69-13a57a140331');\n",
              "          const dataTable =\n",
              "            await google.colab.kernel.invokeFunction('convertToInteractive',\n",
              "                                                     [key], {});\n",
              "          if (!dataTable) return;\n",
              "\n",
              "          const docLinkHtml = 'Like what you see? Visit the ' +\n",
              "            '<a target=\"_blank\" href=https://colab.research.google.com/notebooks/data_table.ipynb>data table notebook</a>'\n",
              "            + ' to learn more about interactive tables.';\n",
              "          element.innerHTML = '';\n",
              "          dataTable['output_type'] = 'display_data';\n",
              "          await google.colab.output.renderOutput(dataTable, element);\n",
              "          const docLink = document.createElement('div');\n",
              "          docLink.innerHTML = docLinkHtml;\n",
              "          element.appendChild(docLink);\n",
              "        }\n",
              "      </script>\n",
              "    </div>\n",
              "  </div>\n"
            ]
          },
          "metadata": {},
          "execution_count": 213
        }
      ],
      "source": [
        "# ver o resumo estatístico das variáveis numéricas\n",
        "df[['price', 'minimum_nights', 'number_of_reviews', 'reviews_per_month',\n",
        "    'calculated_host_listings_count', 'availability_365']].describe()"
      ]
    },
    {
      "cell_type": "markdown",
      "metadata": {
        "id": "VBnuLTkJdatG"
      },
      "source": [
        "Olhando os dados acima, podemos confirmar algumas hipóteses como:\n",
        "\n",
        "* A variável `price` possui 75% do valor abaixo de 285, porém seu valor máximo é 1471.\n",
        "* A quantidade mínima de noites (`minimum_nights`) está acima de 365 dias no ano.\n",
        "\n",
        "#### Boxplot para minimum_nights"
      ]
    },
    {
      "cell_type": "markdown",
      "metadata": {
        "id": "tQTf4cSNp2Q3"
      },
      "source": [
        "Vamos utilizar o gráfico Boxplot para visualizar se há presença de outliers nos dados."
      ]
    },
    {
      "cell_type": "code",
      "execution_count": null,
      "metadata": {
        "colab": {
          "base_uri": "https://localhost:8080/",
          "height": 346
        },
        "id": "7ynxGYhlRGoS",
        "outputId": "ffd22481-a300-413c-da39-e10ace8f0ac2"
      },
      "outputs": [
        {
          "output_type": "display_data",
          "data": {
            "text/plain": [
              "<Figure size 1500x300 with 1 Axes>"
            ],
            "image/png": "[encoded data removed]"
          },
          "metadata": {}
        },
        {
          "output_type": "stream",
          "name": "stdout",
          "text": [
            "minimum_nights: valores acima de 30:\n",
            "364 entradas\n",
            "19.3926%\n"
          ]
        }
      ],
      "source": [
        "# minimum_nights\n",
        "df.minimum_nights.plot(kind='box', vert=False, figsize=(15, 3))\n",
        "plt.show()\n",
        "\n",
        "# ver a quantidade de valores acima de 30 dias para minimum_nights\n",
        "print(\"minimum_nights: valores acima de 30:\")\n",
        "print(\"{} entradas\".format(len(df[df.minimum_nights > 30])))\n",
        "print(\"{:.4f}%\".format((len(df[df.minimum_nights > 30]) / df.shape[0])*100))"
      ]
    },
    {
      "cell_type": "code",
      "execution_count": null,
      "metadata": {
        "colab": {
          "base_uri": "https://localhost:8080/",
          "height": 365
        },
        "id": "4iU4eavRRGfQ",
        "outputId": "4fe47be5-1397-4c55-f93a-83e0d014c466"
      },
      "outputs": [
        {
          "output_type": "display_data",
          "data": {
            "text/plain": [
              "<Figure size 1500x300 with 1 Axes>"
            ],
            "image/png": "[encoded data removed]"
          },
          "metadata": {}
        },
        {
          "output_type": "stream",
          "name": "stdout",
          "text": [
            "\n",
            "price: valores acima de 1000\n",
            "11 entradas\n",
            "0.5860%\n"
          ]
        }
      ],
      "source": [
        "# price\n",
        "df.price.plot(kind='box', vert=False, figsize=(15, 3),)\n",
        "plt.show()\n",
        "\n",
        "# ver a quantidade de valores acima de 1000 para price\n",
        "print(\"\\nprice: valores acima de 1000\")\n",
        "print(\"{} entradas\".format(len(df[df.price > 1000])))\n",
        "print(\"{:.4f}%\".format((len(df[df.price > 1000]) / df.shape[0])*100))\n",
        "\n"
      ]
    },
    {
      "cell_type": "markdown",
      "metadata": {
        "id": "exmoytv_QleE"
      },
      "source": [
        "# Removendo Outlier com método IQR\n",
        "Neste projeto vamos utilizar o método Interquartile Range (IQR) para remover os outliers nas variáveis price e minimum_nights.\n",
        "\n",
        "O IQR é a diferença da distribuição das variáveis entre o terceiro quartil e o primeiro quartil. Ele define um limite superior e um limite inferior, se o valor estiver 1,5 vezes acima do limite superior ou 1,5 vezes abaixo do limite inferior, é considerado um outilier."
      ]
    },
    {
      "cell_type": "code",
      "execution_count": null,
      "metadata": {
        "colab": {
          "base_uri": "https://localhost:8080/"
        },
        "id": "BIjpwan1tAUN",
        "outputId": "311efe09-1c60-4115-d58a-1ba9be49c73a"
      },
      "outputs": [
        {
          "output_type": "stream",
          "name": "stdout",
          "text": [
            "IQR da variável price:  182.0\n",
            "Limite superior de price:  558.0\n",
            "Limite inferior de price:  -170.0\n"
          ]
        }
      ],
      "source": [
        "# identificando os outliers para a variável price\n",
        "q1_price = df.price.quantile(.25)\n",
        "q3_price = df.price.quantile(.75)\n",
        "IQR_price = q3_price - q1_price\n",
        "print('IQR da variável price: ', IQR_price)\n",
        "\n",
        "# definindo os limites\n",
        "sup_price = q3_price + 1.5 * IQR_price\n",
        "inf_price = q1_price - 1.5 * IQR_price\n",
        "\n",
        "print('Limite superior de price: ', sup_price)\n",
        "print('Limite inferior de price: ', inf_price)\n"
      ]
    },
    {
      "cell_type": "code",
      "execution_count": null,
      "metadata": {
        "colab": {
          "base_uri": "https://localhost:8080/",
          "height": 369
        },
        "id": "QJ55FO1WtibM",
        "outputId": "d0e3cce0-2c39-4b61-e2f3-d8d1217c9d6d"
      },
      "outputs": [
        {
          "output_type": "display_data",
          "data": {
            "text/plain": [
              "<Figure size 1500x300 with 1 Axes>"
            ],
            "image/png": "[encoded data removed]"
          },
          "metadata": {}
        },
        {
          "output_type": "stream",
          "name": "stdout",
          "text": [
            "O dataset possui 1877 colunas\n",
            "133 Entradas acima de 558\n",
            "Representam 7.09% do dataset\n"
          ]
        }
      ],
      "source": [
        "# verificando o conjunto original\n",
        "fig, ax = plt.subplots(figsize=(15,3))\n",
        "df.price.plot(kind='box', vert=False);\n",
        "ax.set_title('Dataset Original - price')\n",
        "plt.show()\n",
        "print(\"O dataset possui {} colunas\".format(df.shape[0]))\n",
        "print(\"{} Entradas acima de 558\".format(len(df[df.price > 558])))\n",
        "print(\"Representam {:.2f}% do dataset\".format((len(df[df.price > 558]) / df.shape[0])*100))"
      ]
    },
    {
      "cell_type": "code",
      "execution_count": null,
      "metadata": {
        "colab": {
          "base_uri": "https://localhost:8080/"
        },
        "id": "UZfBMPqauDC0",
        "outputId": "635ddc3f-3c36-4bf7-cc31-beaa5af659a5"
      },
      "outputs": [
        {
          "output_type": "stream",
          "name": "stdout",
          "text": [
            "IQR da variável minimum_nights:  2.0\n",
            "Limite superior de minimum_nights:  6.0\n",
            "Limite inferior de minimum_nights:  -2.0\n"
          ]
        }
      ],
      "source": [
        "# identificando os outliers para a variável minimum_nights\n",
        "q1_minimum_nights = df.minimum_nights.quantile(.25)\n",
        "q3_minimum_nights = df.minimum_nights.quantile(.75)\n",
        "IQR_minimum_nights = q3_minimum_nights - q1_minimum_nights\n",
        "print('IQR da variável minimum_nights: ', IQR_minimum_nights)\n",
        "\n",
        "# definindo os limites\n",
        "sup_minimum_nights = q3_minimum_nights + 1.5 * IQR_minimum_nights\n",
        "inf_minimum_nights = q1_minimum_nights - 1.5 * IQR_minimum_nights\n",
        "\n",
        "print('Limite superior de minimum_nights: ', sup_minimum_nights)\n",
        "print('Limite inferior de minimum_nights: ', inf_minimum_nights)"
      ]
    },
    {
      "cell_type": "code",
      "execution_count": null,
      "metadata": {
        "colab": {
          "base_uri": "https://localhost:8080/",
          "height": 369
        },
        "id": "W5QrRfA6uCyr",
        "outputId": "cdee05bc-a159-49e7-9796-e81fbc4506e5"
      },
      "outputs": [
        {
          "output_type": "display_data",
          "data": {
            "text/plain": [
              "<Figure size 1500x300 with 1 Axes>"
            ],
            "image/png": "[encoded data removed]"
          },
          "metadata": {}
        },
        {
          "output_type": "stream",
          "name": "stdout",
          "text": [
            "O dataset possui 1877 colunas\n",
            "385 Entradas acima de 6\n",
            "Representam 20.51% do dataset\n"
          ]
        }
      ],
      "source": [
        "# verificando o conjunto original\n",
        "fig, ax = plt.subplots(figsize=(15,3))\n",
        "df.minimum_nights.plot(kind='box', vert=False);\n",
        "ax.set_title('Dataset Original - minimum_nights')\n",
        "plt.show()\n",
        "print(\"O dataset possui {} colunas\".format(df.shape[0]))\n",
        "print(\"{} Entradas acima de 6\".format(len(df[df.minimum_nights > 6])))\n",
        "print(\"Representam {:.2f}% do dataset\".format((len(df[df.minimum_nights > 6]) / df.shape[0])*100))"
      ]
    },
    {
      "cell_type": "markdown",
      "metadata": {
        "id": "_BH6Dugud6k8"
      },
      "source": [
        "#### Histogramas sem *outliers*\n",
        "\n",
        "Já que identificamos *outliers* nas variáveis `price` e `minimum_nights`, vamos agora limpar o *DataFrame* delas e plotar novamente o histograma."
      ]
    },
    {
      "cell_type": "code",
      "execution_count": null,
      "metadata": {
        "colab": {
          "base_uri": "https://localhost:8080/",
          "height": 853
        },
        "id": "wwwDYRdqRGTB",
        "outputId": "98711f0b-d930-465d-a8f2-114c97a6a201"
      },
      "outputs": [
        {
          "output_type": "display_data",
          "data": {
            "text/plain": [
              "<Figure size 1500x1000 with 12 Axes>"
            ],
            "image/png": "[encoded data removed]"
          },
          "metadata": {}
        }
      ],
      "source": [
        "# remover os *outliers* em um novo DataFrame\n",
        "df_clean = df.copy()\n",
        "df_clean.drop(df_clean[df_clean.price > 558].index, axis=0, inplace=True)\n",
        "df_clean.drop(df_clean[df_clean.minimum_nights > 6].index, axis=0, inplace=True)\n",
        "\n",
        "\n",
        "# plotar o histograma para as variáveis numérica\n",
        "df_clean.hist(bins=15, figsize=(15,10));"
      ]
    },
    {
      "cell_type": "code",
      "execution_count": null,
      "metadata": {
        "colab": {
          "base_uri": "https://localhost:8080/",
          "height": 300
        },
        "id": "guGQJsz-OGvy",
        "outputId": "2ae3f824-0ffc-4ef0-c308-5c171a6bc5e3"
      },
      "outputs": [
        {
          "output_type": "execute_result",
          "data": {
            "text/plain": [
              "                 id       host_id     latitude    longitude        price  \\\n",
              "count  1.366000e+03  1.366000e+03  1366.000000  1366.000000  1366.000000   \n",
              "mean   3.049332e+17  2.036285e+08    46.820196   -71.236222   218.187408   \n",
              "std    3.665537e+17  1.726710e+08     0.026503     0.040972   119.719483   \n",
              "min    1.383810e+05  3.167050e+05    46.739160   -71.455880    23.000000   \n",
              "25%    3.441241e+07  3.577502e+07    46.810881   -71.234189   124.000000   \n",
              "50%    5.032211e+07  1.616109e+08    46.813630   -71.225545   190.000000   \n",
              "75%    6.766230e+17  3.717116e+08    46.822212   -71.218670   280.750000   \n",
              "max    9.230028e+17  5.186523e+08    46.930440   -71.150740   554.000000   \n",
              "\n",
              "       minimum_nights  number_of_reviews  reviews_per_month  \\\n",
              "count     1366.000000        1366.000000        1366.000000   \n",
              "mean         1.641288          77.207174           2.822584   \n",
              "std          0.819287         105.616427           2.210315   \n",
              "min          1.000000           1.000000           0.010000   \n",
              "25%          1.000000          11.000000           1.000000   \n",
              "50%          1.000000          38.000000           2.405000   \n",
              "75%          2.000000         103.000000           4.260000   \n",
              "max          6.000000        1124.000000          15.000000   \n",
              "\n",
              "       calculated_host_listings_count  availability_365  number_of_reviews_ltm  \n",
              "count                     1366.000000       1366.000000            1366.000000  \n",
              "mean                         9.819912        183.986091              28.441435  \n",
              "std                         16.436351        124.455222              26.168191  \n",
              "min                          1.000000          0.000000               0.000000  \n",
              "25%                          1.000000         58.000000               6.000000  \n",
              "50%                          3.000000        188.000000              21.500000  \n",
              "75%                          8.000000        309.000000              44.000000  \n",
              "max                         67.000000        365.000000             180.000000  "
            ],
            "text/html": [
              "\n",
              "\n",
              "  <div id=\"df-3d5b969d-6edc-4edd-80c7-00ec9ef19520\">\n",
              "    <div class=\"colab-df-container\">\n",
              "      <div>\n",
              "<style scoped>\n",
              "    .dataframe tbody tr th:only-of-type {\n",
              "        vertical-align: middle;\n",
              "    }\n",
              "\n",
              "    .dataframe tbody tr th {\n",
              "        vertical-align: top;\n",
              "    }\n",
              "\n",
              "    .dataframe thead th {\n",
              "        text-align: right;\n",
              "    }\n",
              "</style>\n",
              "<table border=\"1\" class=\"dataframe\">\n",
              "  <thead>\n",
              "    <tr style=\"text-align: right;\">\n",
              "      <th></th>\n",
              "      <th>id</th>\n",
              "      <th>host_id</th>\n",
              "      <th>latitude</th>\n",
              "      <th>longitude</th>\n",
              "      <th>price</th>\n",
              "      <th>minimum_nights</th>\n",
              "      <th>number_of_reviews</th>\n",
              "      <th>reviews_per_month</th>\n",
              "      <th>calculated_host_listings_count</th>\n",
              "      <th>availability_365</th>\n",
              "      <th>number_of_reviews_ltm</th>\n",
              "    </tr>\n",
              "  </thead>\n",
              "  <tbody>\n",
              "    <tr>\n",
              "      <th>count</th>\n",
              "      <td>1.366000e+03</td>\n",
              "      <td>1.366000e+03</td>\n",
              "      <td>1366.000000</td>\n",
              "      <td>1366.000000</td>\n",
              "      <td>1366.000000</td>\n",
              "      <td>1366.000000</td>\n",
              "      <td>1366.000000</td>\n",
              "      <td>1366.000000</td>\n",
              "      <td>1366.000000</td>\n",
              "      <td>1366.000000</td>\n",
              "      <td>1366.000000</td>\n",
              "    </tr>\n",
              "    <tr>\n",
              "      <th>mean</th>\n",
              "      <td>3.049332e+17</td>\n",
              "      <td>2.036285e+08</td>\n",
              "      <td>46.820196</td>\n",
              "      <td>-71.236222</td>\n",
              "      <td>218.187408</td>\n",
              "      <td>1.641288</td>\n",
              "      <td>77.207174</td>\n",
              "      <td>2.822584</td>\n",
              "      <td>9.819912</td>\n",
              "      <td>183.986091</td>\n",
              "      <td>28.441435</td>\n",
              "    </tr>\n",
              "    <tr>\n",
              "      <th>std</th>\n",
              "      <td>3.665537e+17</td>\n",
              "      <td>1.726710e+08</td>\n",
              "      <td>0.026503</td>\n",
              "      <td>0.040972</td>\n",
              "      <td>119.719483</td>\n",
              "      <td>0.819287</td>\n",
              "      <td>105.616427</td>\n",
              "      <td>2.210315</td>\n",
              "      <td>16.436351</td>\n",
              "      <td>124.455222</td>\n",
              "      <td>26.168191</td>\n",
              "    </tr>\n",
              "    <tr>\n",
              "      <th>min</th>\n",
              "      <td>1.383810e+05</td>\n",
              "      <td>3.167050e+05</td>\n",
              "      <td>46.739160</td>\n",
              "      <td>-71.455880</td>\n",
              "      <td>23.000000</td>\n",
              "      <td>1.000000</td>\n",
              "      <td>1.000000</td>\n",
              "      <td>0.010000</td>\n",
              "      <td>1.000000</td>\n",
              "      <td>0.000000</td>\n",
              "      <td>0.000000</td>\n",
              "    </tr>\n",
              "    <tr>\n",
              "      <th>25%</th>\n",
              "      <td>3.441241e+07</td>\n",
              "      <td>3.577502e+07</td>\n",
              "      <td>46.810881</td>\n",
              "      <td>-71.234189</td>\n",
              "      <td>124.000000</td>\n",
              "      <td>1.000000</td>\n",
              "      <td>11.000000</td>\n",
              "      <td>1.000000</td>\n",
              "      <td>1.000000</td>\n",
              "      <td>58.000000</td>\n",
              "      <td>6.000000</td>\n",
              "    </tr>\n",
              "    <tr>\n",
              "      <th>50%</th>\n",
              "      <td>5.032211e+07</td>\n",
              "      <td>1.616109e+08</td>\n",
              "      <td>46.813630</td>\n",
              "      <td>-71.225545</td>\n",
              "      <td>190.000000</td>\n",
              "      <td>1.000000</td>\n",
              "      <td>38.000000</td>\n",
              "      <td>2.405000</td>\n",
              "      <td>3.000000</td>\n",
              "      <td>188.000000</td>\n",
              "      <td>21.500000</td>\n",
              "    </tr>\n",
              "    <tr>\n",
              "      <th>75%</th>\n",
              "      <td>6.766230e+17</td>\n",
              "      <td>3.717116e+08</td>\n",
              "      <td>46.822212</td>\n",
              "      <td>-71.218670</td>\n",
              "      <td>280.750000</td>\n",
              "      <td>2.000000</td>\n",
              "      <td>103.000000</td>\n",
              "      <td>4.260000</td>\n",
              "      <td>8.000000</td>\n",
              "      <td>309.000000</td>\n",
              "      <td>44.000000</td>\n",
              "    </tr>\n",
              "    <tr>\n",
              "      <th>max</th>\n",
              "      <td>9.230028e+17</td>\n",
              "      <td>5.186523e+08</td>\n",
              "      <td>46.930440</td>\n",
              "      <td>-71.150740</td>\n",
              "      <td>554.000000</td>\n",
              "      <td>6.000000</td>\n",
              "      <td>1124.000000</td>\n",
              "      <td>15.000000</td>\n",
              "      <td>67.000000</td>\n",
              "      <td>365.000000</td>\n",
              "      <td>180.000000</td>\n",
              "    </tr>\n",
              "  </tbody>\n",
              "</table>\n",
              "</div>\n",
              "      <button class=\"colab-df-convert\" onclick=\"convertToInteractive('df-3d5b969d-6edc-4edd-80c7-00ec9ef19520')\"\n",
              "              title=\"Convert this dataframe to an interactive table.\"\n",
              "              style=\"display:none;\">\n",
              "\n",
              "  <svg xmlns=\"http://www.w3.org/2000/svg\" height=\"24px\"viewBox=\"0 0 24 24\"\n",
              "       width=\"24px\">\n",
              "    <path d=\"M0 0h24v24H0V0z\" fill=\"none\"/>\n",
              "    <path d=\"M18.56 5.44l.94 2.06.94-2.06 2.06-.94-2.06-.94-.94-2.06-.94 2.06-2.06.94zm-11 1L8.5 8.5l.94-2.06 2.06-.94-2.06-.94L8.5 2.5l-.94 2.06-2.06.94zm10 10l.94 2.06.94-2.06 2.06-.94-2.06-.94-.94-2.06-.94 2.06-2.06.94z\"/><path d=\"M17.41 7.96l-1.37-1.37c-.4-.4-.92-.59-1.43-.59-.52 0-1.04.2-1.43.59L10.3 9.45l-7.72 7.72c-.78.78-.78 2.05 0 2.83L4 21.41c.39.39.9.59 1.41.59.51 0 1.02-.2 1.41-.59l7.78-7.78 2.81-2.81c.8-.78.8-2.07 0-2.86zM5.41 20L4 18.59l7.72-7.72 1.47 1.35L5.41 20z\"/>\n",
              "  </svg>\n",
              "      </button>\n",
              "\n",
              "\n",
              "\n",
              "    <div id=\"df-ee3f701f-0b40-4dec-99db-f5506b6d725b\">\n",
              "      <button class=\"colab-df-quickchart\" onclick=\"quickchart('df-ee3f701f-0b40-4dec-99db-f5506b6d725b')\"\n",
              "              title=\"Suggest charts.\"\n",
              "              style=\"display:none;\">\n",
              "\n",
              "<svg xmlns=\"http://www.w3.org/2000/svg\" height=\"24px\"viewBox=\"0 0 24 24\"\n",
              "     width=\"24px\">\n",
              "    <g>\n",
              "        <path d=\"M19 3H5c-1.1 0-2 .9-2 2v14c0 1.1.9 2 2 2h14c1.1 0 2-.9 2-2V5c0-1.1-.9-2-2-2zM9 17H7v-7h2v7zm4 0h-2V7h2v10zm4 0h-2v-4h2v4z\"/>\n",
              "    </g>\n",
              "</svg>\n",
              "      </button>\n",
              "    </div>\n",
              "\n",
              "<style>\n",
              "  .colab-df-quickchart {\n",
              "    background-color: #E8F0FE;\n",
              "    border: none;\n",
              "    border-radius: 50%;\n",
              "    cursor: pointer;\n",
              "    display: none;\n",
              "    fill: #1967D2;\n",
              "    height: 32px;\n",
              "    padding: 0 0 0 0;\n",
              "    width: 32px;\n",
              "  }\n",
              "\n",
              "  .colab-df-quickchart:hover {\n",
              "    background-color: #E2EBFA;\n",
              "    box-shadow: 0px 1px 2px rgba(60, 64, 67, 0.3), 0px 1px 3px 1px rgba(60, 64, 67, 0.15);\n",
              "    fill: #174EA6;\n",
              "  }\n",
              "\n",
              "  [theme=dark] .colab-df-quickchart {\n",
              "    background-color: #3B4455;\n",
              "    fill: #D2E3FC;\n",
              "  }\n",
              "\n",
              "  [theme=dark] .colab-df-quickchart:hover {\n",
              "    background-color: #434B5C;\n",
              "    box-shadow: 0px 1px 3px 1px rgba(0, 0, 0, 0.15);\n",
              "    filter: drop-shadow(0px 1px 2px rgba(0, 0, 0, 0.3));\n",
              "    fill: #FFFFFF;\n",
              "  }\n",
              "</style>\n",
              "\n",
              "    <script>\n",
              "      async function quickchart(key) {\n",
              "        const containerElement = document.querySelector('#' + key);\n",
              "        const charts = await google.colab.kernel.invokeFunction(\n",
              "            'suggestCharts', [key], {});\n",
              "      }\n",
              "    </script>\n",
              "\n",
              "      <script>\n",
              "\n",
              "function displayQuickchartButton(domScope) {\n",
              "  let quickchartButtonEl =\n",
              "    domScope.querySelector('#df-ee3f701f-0b40-4dec-99db-f5506b6d725b button.colab-df-quickchart');\n",
              "  quickchartButtonEl.style.display =\n",
              "    google.colab.kernel.accessAllowed ? 'block' : 'none';\n",
              "}\n",
              "\n",
              "        displayQuickchartButton(document);\n",
              "      </script>\n",
              "      <style>\n",
              "    .colab-df-container {\n",
              "      display:flex;\n",
              "      flex-wrap:wrap;\n",
              "      gap: 12px;\n",
              "    }\n",
              "\n",
              "    .colab-df-convert {\n",
              "      background-color: #E8F0FE;\n",
              "      border: none;\n",
              "      border-radius: 50%;\n",
              "      cursor: pointer;\n",
              "      display: none;\n",
              "      fill: #1967D2;\n",
              "      height: 32px;\n",
              "      padding: 0 0 0 0;\n",
              "      width: 32px;\n",
              "    }\n",
              "\n",
              "    .colab-df-convert:hover {\n",
              "      background-color: #E2EBFA;\n",
              "      box-shadow: 0px 1px 2px rgba(60, 64, 67, 0.3), 0px 1px 3px 1px rgba(60, 64, 67, 0.15);\n",
              "      fill: #174EA6;\n",
              "    }\n",
              "\n",
              "    [theme=dark] .colab-df-convert {\n",
              "      background-color: #3B4455;\n",
              "      fill: #D2E3FC;\n",
              "    }\n",
              "\n",
              "    [theme=dark] .colab-df-convert:hover {\n",
              "      background-color: #434B5C;\n",
              "      box-shadow: 0px 1px 3px 1px rgba(0, 0, 0, 0.15);\n",
              "      filter: drop-shadow(0px 1px 2px rgba(0, 0, 0, 0.3));\n",
              "      fill: #FFFFFF;\n",
              "    }\n",
              "  </style>\n",
              "\n",
              "      <script>\n",
              "        const buttonEl =\n",
              "          document.querySelector('#df-3d5b969d-6edc-4edd-80c7-00ec9ef19520 button.colab-df-convert');\n",
              "        buttonEl.style.display =\n",
              "          google.colab.kernel.accessAllowed ? 'block' : 'none';\n",
              "\n",
              "        async function convertToInteractive(key) {\n",
              "          const element = document.querySelector('#df-3d5b969d-6edc-4edd-80c7-00ec9ef19520');\n",
              "          const dataTable =\n",
              "            await google.colab.kernel.invokeFunction('convertToInteractive',\n",
              "                                                     [key], {});\n",
              "          if (!dataTable) return;\n",
              "\n",
              "          const docLinkHtml = 'Like what you see? Visit the ' +\n",
              "            '<a target=\"_blank\" href=https://colab.research.google.com/notebooks/data_table.ipynb>data table notebook</a>'\n",
              "            + ' to learn more about interactive tables.';\n",
              "          element.innerHTML = '';\n",
              "          dataTable['output_type'] = 'display_data';\n",
              "          await google.colab.output.renderOutput(dataTable, element);\n",
              "          const docLink = document.createElement('div');\n",
              "          docLink.innerHTML = docLinkHtml;\n",
              "          element.appendChild(docLink);\n",
              "        }\n",
              "      </script>\n",
              "    </div>\n",
              "  </div>\n"
            ]
          },
          "metadata": {},
          "execution_count": 221
        }
      ],
      "source": [
        "# verificando a distribuição estatistica dos dados limpos\n",
        "df_clean.describe()"
      ]
    },
    {
      "cell_type": "markdown",
      "metadata": {
        "id": "7x4aw1j5wNmn"
      },
      "source": [
        "### **Q4. Qual a média dos preços de aluguel?**"
      ]
    },
    {
      "cell_type": "code",
      "execution_count": null,
      "metadata": {
        "colab": {
          "base_uri": "https://localhost:8080/"
        },
        "id": "ff-8gUahLk-C",
        "outputId": "b2ce2a64-dc0d-4c3b-968b-ca88127afcc4"
      },
      "outputs": [
        {
          "output_type": "execute_result",
          "data": {
            "text/plain": [
              "190.0"
            ]
          },
          "metadata": {},
          "execution_count": 222
        }
      ],
      "source": [
        "# ver a média da coluna `price``\n",
        "df_clean.price.median()"
      ]
    },
    {
      "cell_type": "markdown",
      "metadata": {
        "id": "IXn2oIo5qx-w"
      },
      "source": [
        "### **Q4. Qual a correlação existente entre as variáveis**"
      ]
    },
    {
      "cell_type": "code",
      "execution_count": null,
      "metadata": {
        "colab": {
          "base_uri": "https://localhost:8080/",
          "height": 206
        },
        "id": "x2ayzBajqxyd",
        "outputId": "c43aac4b-6565-445c-c6b9-1adb3c748ca2"
      },
      "outputs": [
        {
          "output_type": "display_data",
          "data": {
            "text/plain": [
              "                                   price  minimum_nights  number_of_reviews  \\\n",
              "price                           1.000000        0.059804          -0.129172   \n",
              "minimum_nights                  0.059804        1.000000          -0.166996   \n",
              "number_of_reviews              -0.129172       -0.166996           1.000000   \n",
              "calculated_host_listings_count  0.209625       -0.137436          -0.108711   \n",
              "availability_365                0.174429       -0.184549          -0.054341   \n",
              "\n",
              "                                calculated_host_listings_count  \\\n",
              "price                                                 0.209625   \n",
              "minimum_nights                                       -0.137436   \n",
              "number_of_reviews                                    -0.108711   \n",
              "calculated_host_listings_count                        1.000000   \n",
              "availability_365                                      0.346855   \n",
              "\n",
              "                                availability_365  \n",
              "price                                   0.174429  \n",
              "minimum_nights                         -0.184549  \n",
              "number_of_reviews                      -0.054341  \n",
              "calculated_host_listings_count          0.346855  \n",
              "availability_365                        1.000000  "
            ],
            "text/html": [
              "\n",
              "\n",
              "  <div id=\"df-91e77618-0395-4533-8d97-3168a2bb57de\">\n",
              "    <div class=\"colab-df-container\">\n",
              "      <div>\n",
              "<style scoped>\n",
              "    .dataframe tbody tr th:only-of-type {\n",
              "        vertical-align: middle;\n",
              "    }\n",
              "\n",
              "    .dataframe tbody tr th {\n",
              "        vertical-align: top;\n",
              "    }\n",
              "\n",
              "    .dataframe thead th {\n",
              "        text-align: right;\n",
              "    }\n",
              "</style>\n",
              "<table border=\"1\" class=\"dataframe\">\n",
              "  <thead>\n",
              "    <tr style=\"text-align: right;\">\n",
              "      <th></th>\n",
              "      <th>price</th>\n",
              "      <th>minimum_nights</th>\n",
              "      <th>number_of_reviews</th>\n",
              "      <th>calculated_host_listings_count</th>\n",
              "      <th>availability_365</th>\n",
              "    </tr>\n",
              "  </thead>\n",
              "  <tbody>\n",
              "    <tr>\n",
              "      <th>price</th>\n",
              "      <td>1.000000</td>\n",
              "      <td>0.059804</td>\n",
              "      <td>-0.129172</td>\n",
              "      <td>0.209625</td>\n",
              "      <td>0.174429</td>\n",
              "    </tr>\n",
              "    <tr>\n",
              "      <th>minimum_nights</th>\n",
              "      <td>0.059804</td>\n",
              "      <td>1.000000</td>\n",
              "      <td>-0.166996</td>\n",
              "      <td>-0.137436</td>\n",
              "      <td>-0.184549</td>\n",
              "    </tr>\n",
              "    <tr>\n",
              "      <th>number_of_reviews</th>\n",
              "      <td>-0.129172</td>\n",
              "      <td>-0.166996</td>\n",
              "      <td>1.000000</td>\n",
              "      <td>-0.108711</td>\n",
              "      <td>-0.054341</td>\n",
              "    </tr>\n",
              "    <tr>\n",
              "      <th>calculated_host_listings_count</th>\n",
              "      <td>0.209625</td>\n",
              "      <td>-0.137436</td>\n",
              "      <td>-0.108711</td>\n",
              "      <td>1.000000</td>\n",
              "      <td>0.346855</td>\n",
              "    </tr>\n",
              "    <tr>\n",
              "      <th>availability_365</th>\n",
              "      <td>0.174429</td>\n",
              "      <td>-0.184549</td>\n",
              "      <td>-0.054341</td>\n",
              "      <td>0.346855</td>\n",
              "      <td>1.000000</td>\n",
              "    </tr>\n",
              "  </tbody>\n",
              "</table>\n",
              "</div>\n",
              "      <button class=\"colab-df-convert\" onclick=\"convertToInteractive('df-91e77618-0395-4533-8d97-3168a2bb57de')\"\n",
              "              title=\"Convert this dataframe to an interactive table.\"\n",
              "              style=\"display:none;\">\n",
              "\n",
              "  <svg xmlns=\"http://www.w3.org/2000/svg\" height=\"24px\"viewBox=\"0 0 24 24\"\n",
              "       width=\"24px\">\n",
              "    <path d=\"M0 0h24v24H0V0z\" fill=\"none\"/>\n",
              "    <path d=\"M18.56 5.44l.94 2.06.94-2.06 2.06-.94-2.06-.94-.94-2.06-.94 2.06-2.06.94zm-11 1L8.5 8.5l.94-2.06 2.06-.94-2.06-.94L8.5 2.5l-.94 2.06-2.06.94zm10 10l.94 2.06.94-2.06 2.06-.94-2.06-.94-.94-2.06-.94 2.06-2.06.94z\"/><path d=\"M17.41 7.96l-1.37-1.37c-.4-.4-.92-.59-1.43-.59-.52 0-1.04.2-1.43.59L10.3 9.45l-7.72 7.72c-.78.78-.78 2.05 0 2.83L4 21.41c.39.39.9.59 1.41.59.51 0 1.02-.2 1.41-.59l7.78-7.78 2.81-2.81c.8-.78.8-2.07 0-2.86zM5.41 20L4 18.59l7.72-7.72 1.47 1.35L5.41 20z\"/>\n",
              "  </svg>\n",
              "      </button>\n",
              "\n",
              "\n",
              "\n",
              "    <div id=\"df-b8395a0f-4eba-4af7-8977-ad1d4e6f85f6\">\n",
              "      <button class=\"colab-df-quickchart\" onclick=\"quickchart('df-b8395a0f-4eba-4af7-8977-ad1d4e6f85f6')\"\n",
              "              title=\"Suggest charts.\"\n",
              "              style=\"display:none;\">\n",
              "\n",
              "<svg xmlns=\"http://www.w3.org/2000/svg\" height=\"24px\"viewBox=\"0 0 24 24\"\n",
              "     width=\"24px\">\n",
              "    <g>\n",
              "        <path d=\"M19 3H5c-1.1 0-2 .9-2 2v14c0 1.1.9 2 2 2h14c1.1 0 2-.9 2-2V5c0-1.1-.9-2-2-2zM9 17H7v-7h2v7zm4 0h-2V7h2v10zm4 0h-2v-4h2v4z\"/>\n",
              "    </g>\n",
              "</svg>\n",
              "      </button>\n",
              "    </div>\n",
              "\n",
              "<style>\n",
              "  .colab-df-quickchart {\n",
              "    background-color: #E8F0FE;\n",
              "    border: none;\n",
              "    border-radius: 50%;\n",
              "    cursor: pointer;\n",
              "    display: none;\n",
              "    fill: #1967D2;\n",
              "    height: 32px;\n",
              "    padding: 0 0 0 0;\n",
              "    width: 32px;\n",
              "  }\n",
              "\n",
              "  .colab-df-quickchart:hover {\n",
              "    background-color: #E2EBFA;\n",
              "    box-shadow: 0px 1px 2px rgba(60, 64, 67, 0.3), 0px 1px 3px 1px rgba(60, 64, 67, 0.15);\n",
              "    fill: #174EA6;\n",
              "  }\n",
              "\n",
              "  [theme=dark] .colab-df-quickchart {\n",
              "    background-color: #3B4455;\n",
              "    fill: #D2E3FC;\n",
              "  }\n",
              "\n",
              "  [theme=dark] .colab-df-quickchart:hover {\n",
              "    background-color: #434B5C;\n",
              "    box-shadow: 0px 1px 3px 1px rgba(0, 0, 0, 0.15);\n",
              "    filter: drop-shadow(0px 1px 2px rgba(0, 0, 0, 0.3));\n",
              "    fill: #FFFFFF;\n",
              "  }\n",
              "</style>\n",
              "\n",
              "    <script>\n",
              "      async function quickchart(key) {\n",
              "        const containerElement = document.querySelector('#' + key);\n",
              "        const charts = await google.colab.kernel.invokeFunction(\n",
              "            'suggestCharts', [key], {});\n",
              "      }\n",
              "    </script>\n",
              "\n",
              "      <script>\n",
              "\n",
              "function displayQuickchartButton(domScope) {\n",
              "  let quickchartButtonEl =\n",
              "    domScope.querySelector('#df-b8395a0f-4eba-4af7-8977-ad1d4e6f85f6 button.colab-df-quickchart');\n",
              "  quickchartButtonEl.style.display =\n",
              "    google.colab.kernel.accessAllowed ? 'block' : 'none';\n",
              "}\n",
              "\n",
              "        displayQuickchartButton(document);\n",
              "      </script>\n",
              "      <style>\n",
              "    .colab-df-container {\n",
              "      display:flex;\n",
              "      flex-wrap:wrap;\n",
              "      gap: 12px;\n",
              "    }\n",
              "\n",
              "    .colab-df-convert {\n",
              "      background-color: #E8F0FE;\n",
              "      border: none;\n",
              "      border-radius: 50%;\n",
              "      cursor: pointer;\n",
              "      display: none;\n",
              "      fill: #1967D2;\n",
              "      height: 32px;\n",
              "      padding: 0 0 0 0;\n",
              "      width: 32px;\n",
              "    }\n",
              "\n",
              "    .colab-df-convert:hover {\n",
              "      background-color: #E2EBFA;\n",
              "      box-shadow: 0px 1px 2px rgba(60, 64, 67, 0.3), 0px 1px 3px 1px rgba(60, 64, 67, 0.15);\n",
              "      fill: #174EA6;\n",
              "    }\n",
              "\n",
              "    [theme=dark] .colab-df-convert {\n",
              "      background-color: #3B4455;\n",
              "      fill: #D2E3FC;\n",
              "    }\n",
              "\n",
              "    [theme=dark] .colab-df-convert:hover {\n",
              "      background-color: #434B5C;\n",
              "      box-shadow: 0px 1px 3px 1px rgba(0, 0, 0, 0.15);\n",
              "      filter: drop-shadow(0px 1px 2px rgba(0, 0, 0, 0.3));\n",
              "      fill: #FFFFFF;\n",
              "    }\n",
              "  </style>\n",
              "\n",
              "      <script>\n",
              "        const buttonEl =\n",
              "          document.querySelector('#df-91e77618-0395-4533-8d97-3168a2bb57de button.colab-df-convert');\n",
              "        buttonEl.style.display =\n",
              "          google.colab.kernel.accessAllowed ? 'block' : 'none';\n",
              "\n",
              "        async function convertToInteractive(key) {\n",
              "          const element = document.querySelector('#df-91e77618-0395-4533-8d97-3168a2bb57de');\n",
              "          const dataTable =\n",
              "            await google.colab.kernel.invokeFunction('convertToInteractive',\n",
              "                                                     [key], {});\n",
              "          if (!dataTable) return;\n",
              "\n",
              "          const docLinkHtml = 'Like what you see? Visit the ' +\n",
              "            '<a target=\"_blank\" href=https://colab.research.google.com/notebooks/data_table.ipynb>data table notebook</a>'\n",
              "            + ' to learn more about interactive tables.';\n",
              "          element.innerHTML = '';\n",
              "          dataTable['output_type'] = 'display_data';\n",
              "          await google.colab.output.renderOutput(dataTable, element);\n",
              "          const docLink = document.createElement('div');\n",
              "          docLink.innerHTML = docLinkHtml;\n",
              "          element.appendChild(docLink);\n",
              "        }\n",
              "      </script>\n",
              "    </div>\n",
              "  </div>\n"
            ]
          },
          "metadata": {}
        }
      ],
      "source": [
        "# criar uma matriz de correlação\n",
        "corr = df_clean[['price', 'minimum_nights', 'number_of_reviews',\n",
        "                 'calculated_host_listings_count', 'availability_365']].corr()\n",
        "# mostrar a matriz de correlação\n",
        "display(corr)"
      ]
    },
    {
      "cell_type": "code",
      "execution_count": null,
      "metadata": {
        "colab": {
          "base_uri": "https://localhost:8080/",
          "height": 632
        },
        "id": "91UujDr6ueqE",
        "outputId": "e5265d04-897f-4f2a-e4c8-ffffc2fe0168"
      },
      "outputs": [
        {
          "output_type": "display_data",
          "data": {
            "text/plain": [
              "<Figure size 640x480 with 2 Axes>"
            ],
            "image/png": "[encoded data removed]"
          },
          "metadata": {}
        }
      ],
      "source": [
        "# plotar um heatmap a partir das correlações\n",
        "sns.heatmap(corr, cmap='RdBu', fmt='.2f', square=True, linecolor='white', annot=True);"
      ]
    },
    {
      "cell_type": "markdown",
      "source": [
        "O heatmap ou mapa de calor gerado acima, é utilizado para identificar correlações entre as variáveis.\n",
        "Como os dados são simplificados nessa análise, não foi possivel identificar correlações relevantes entre as variáveis através do heatmap."
      ],
      "metadata": {
        "id": "oyKprMjviAVK"
      }
    },
    {
      "cell_type": "markdown",
      "metadata": {
        "id": "7b6RMWpuHKN-"
      },
      "source": [
        "### **Q5. Qual o tipo de imóvel mais alugado no Airbnb?**"
      ]
    },
    {
      "cell_type": "code",
      "execution_count": null,
      "metadata": {
        "colab": {
          "base_uri": "https://localhost:8080/"
        },
        "id": "ueLPNWvPHgfB",
        "outputId": "4fc09f36-9a44-4437-f991-e52ef411d927"
      },
      "outputs": [
        {
          "output_type": "execute_result",
          "data": {
            "text/plain": [
              "Entire home/apt    1167\n",
              "Private room        169\n",
              "Hotel room           17\n",
              "Shared room          13\n",
              "Name: room_type, dtype: int64"
            ]
          },
          "metadata": {},
          "execution_count": 225
        }
      ],
      "source": [
        "# mostrar a quantidade de cada tipo de imóvel disponível\n",
        "df_clean.room_type.value_counts()"
      ]
    },
    {
      "cell_type": "code",
      "execution_count": null,
      "metadata": {
        "colab": {
          "base_uri": "https://localhost:8080/"
        },
        "id": "EvwoO-XAHhIm",
        "outputId": "fbb01354-faea-43db-dad8-9c3f3abe98bc"
      },
      "outputs": [
        {
          "output_type": "execute_result",
          "data": {
            "text/plain": [
              "Entire home/apt    62.173681\n",
              "Private room        9.003729\n",
              "Hotel room          0.905701\n",
              "Shared room         0.692595\n",
              "Name: room_type, dtype: float64"
            ]
          },
          "metadata": {},
          "execution_count": 226
        }
      ],
      "source": [
        "# mostrar a porcentagem de cada tipo de imóvel disponível\n",
        "df_clean.room_type.value_counts() / df.shape[0] * 100"
      ]
    },
    {
      "cell_type": "markdown",
      "metadata": {
        "id": "MFa5NbnLJMcd"
      },
      "source": [
        "### **Q6. Qual a localidade mais cara do dataset?**\n",
        "\n"
      ]
    },
    {
      "cell_type": "code",
      "execution_count": null,
      "metadata": {
        "colab": {
          "base_uri": "https://localhost:8080/"
        },
        "id": "MD_xa143JZpi",
        "outputId": "ff5b5bdf-058d-45a4-e4e1-494de681395d"
      },
      "outputs": [
        {
          "output_type": "execute_result",
          "data": {
            "text/plain": [
              "neighbourhood\n",
              "Pointe-de-Sainte-Foy                            463.000000\n",
              "Vieux-Québec/Cap-Blanc/Colline parlementaire    288.381643\n",
              "Saint-Jean-Baptiste                             249.134328\n",
              "Quartier 4-6                                    246.200000\n",
              "Saint-Roch                                      234.721785\n",
              "Saint-Sacrement                                 222.687500\n",
              "Quartier 5-2                                    220.000000\n",
              "Cap-Rouge                                       220.000000\n",
              "Saint-Sauveur                                   209.904762\n",
              "Montcalm                                        209.818182\n",
              "Name: price, dtype: float64"
            ]
          },
          "metadata": {},
          "execution_count": 227
        }
      ],
      "source": [
        "# ver preços por bairros, na média\n",
        "df_clean.groupby(['neighbourhood']).price.mean().sort_values(ascending=False)[:10]"
      ]
    },
    {
      "cell_type": "code",
      "execution_count": null,
      "metadata": {
        "colab": {
          "base_uri": "https://localhost:8080/",
          "height": 711
        },
        "id": "pELUDy1aF7Kn",
        "outputId": "81602560-7b62-4853-b879-a7b336a41e4c"
      },
      "outputs": [
        {
          "output_type": "stream",
          "name": "stdout",
          "text": [
            "(1, 15)\n"
          ]
        },
        {
          "output_type": "execute_result",
          "data": {
            "text/plain": [
              "                      id                                               name  \\\n",
              "3                 348647  Bed and breakfast in Quebec · ★4.74 · 1 bedroo...   \n",
              "4                 361573  Bed and breakfast in Quebec · ★4.78 · 1 bedroo...   \n",
              "6                 517628  Townhouse in Quebec · ★4.87 · 5 bedrooms · 5 b...   \n",
              "24               1486117  Nature lodge in Quebec · ★4.40 · 1 bedroom · 2...   \n",
              "25               1486498  Nature lodge in Quebec · ★4.64 · 1 bedroom · 1...   \n",
              "...                  ...                                                ...   \n",
              "2090  899192485158951984  Rental unit in Québec · ★New · 1 bedroom · 1 b...   \n",
              "2099  900187257804085812  Rental unit in Québec · ★5.0 · 2 bedrooms · 2 ...   \n",
              "2100  900548210147862117  Rental unit in Québec · ★3.83 · 2 bedrooms · 2...   \n",
              "2144  918039159870466763  Rental unit in Québec · ★New · 2 bedrooms · 2 ...   \n",
              "2146  918074453608001906  Rental unit in Québec · ★New · 2 bedrooms · 2 ...   \n",
              "\n",
              "        host_id host_name                                 neighbourhood  \\\n",
              "3       1764323    Gilles  Vieux-Québec/Cap-Blanc/Colline parlementaire   \n",
              "4       1764323    Gilles  Vieux-Québec/Cap-Blanc/Colline parlementaire   \n",
              "6       2216595  Jennifer  Vieux-Québec/Cap-Blanc/Colline parlementaire   \n",
              "24      7927151     Denis  Vieux-Québec/Cap-Blanc/Colline parlementaire   \n",
              "25      7927151     Denis  Vieux-Québec/Cap-Blanc/Colline parlementaire   \n",
              "...         ...       ...                                           ...   \n",
              "2090  233022418      Alek  Vieux-Québec/Cap-Blanc/Colline parlementaire   \n",
              "2099  467793070     David  Vieux-Québec/Cap-Blanc/Colline parlementaire   \n",
              "2100  419586074     Cindy  Vieux-Québec/Cap-Blanc/Colline parlementaire   \n",
              "2144  284998802    Manoir  Vieux-Québec/Cap-Blanc/Colline parlementaire   \n",
              "2146  284998802    Manoir  Vieux-Québec/Cap-Blanc/Colline parlementaire   \n",
              "\n",
              "       latitude  longitude        room_type  price  minimum_nights  \\\n",
              "3     46.815040 -71.205620     Private room  225.0               1   \n",
              "4     46.815700 -71.205040     Private room  150.0               1   \n",
              "6     46.804320 -71.205590  Entire home/apt  459.0               3   \n",
              "24    46.813860 -71.202010     Private room  190.0               2   \n",
              "25    46.814080 -71.204550     Private room  210.0               2   \n",
              "...         ...        ...              ...    ...             ...   \n",
              "2090  46.797390 -71.221202  Entire home/apt  141.0               2   \n",
              "2099  46.805117 -71.217797  Entire home/apt  248.0               1   \n",
              "2100  46.813850 -71.207630  Entire home/apt  279.0               2   \n",
              "2144  46.811439 -71.210538  Entire home/apt  374.0               3   \n",
              "2146  46.811439 -71.210538  Entire home/apt  374.0               3   \n",
              "\n",
              "      number_of_reviews  reviews_per_month  calculated_host_listings_count  \\\n",
              "3                   176               1.28                               2   \n",
              "4                    72               0.53                               2   \n",
              "6                    30               0.63                               1   \n",
              "24                  178               1.48                               7   \n",
              "25                  220               1.90                               7   \n",
              "...                 ...                ...                             ...   \n",
              "2090                  2               2.00                               1   \n",
              "2099                  9               9.00                               2   \n",
              "2100                  6               5.45                               1   \n",
              "2144                  1               1.00                               7   \n",
              "2146                  2               2.00                               7   \n",
              "\n",
              "      availability_365  number_of_reviews_ltm  \n",
              "3                   75                     17  \n",
              "4                   50                      2  \n",
              "6                   49                      8  \n",
              "24                  46                     23  \n",
              "25                  40                     22  \n",
              "...                ...                    ...  \n",
              "2090               312                      2  \n",
              "2099               341                      9  \n",
              "2100               222                      6  \n",
              "2144               361                      1  \n",
              "2146               357                      2  \n",
              "\n",
              "[207 rows x 15 columns]"
            ],
            "text/html": [
              "\n",
              "\n",
              "  <div id=\"df-55aee243-6f60-4ec8-862c-5ef53b3c2870\">\n",
              "    <div class=\"colab-df-container\">\n",
              "      <div>\n",
              "<style scoped>\n",
              "    .dataframe tbody tr th:only-of-type {\n",
              "        vertical-align: middle;\n",
              "    }\n",
              "\n",
              "    .dataframe tbody tr th {\n",
              "        vertical-align: top;\n",
              "    }\n",
              "\n",
              "    .dataframe thead th {\n",
              "        text-align: right;\n",
              "    }\n",
              "</style>\n",
              "<table border=\"1\" class=\"dataframe\">\n",
              "  <thead>\n",
              "    <tr style=\"text-align: right;\">\n",
              "      <th></th>\n",
              "      <th>id</th>\n",
              "      <th>name</th>\n",
              "      <th>host_id</th>\n",
              "      <th>host_name</th>\n",
              "      <th>neighbourhood</th>\n",
              "      <th>latitude</th>\n",
              "      <th>longitude</th>\n",
              "      <th>room_type</th>\n",
              "      <th>price</th>\n",
              "      <th>minimum_nights</th>\n",
              "      <th>number_of_reviews</th>\n",
              "      <th>reviews_per_month</th>\n",
              "      <th>calculated_host_listings_count</th>\n",
              "      <th>availability_365</th>\n",
              "      <th>number_of_reviews_ltm</th>\n",
              "    </tr>\n",
              "  </thead>\n",
              "  <tbody>\n",
              "    <tr>\n",
              "      <th>3</th>\n",
              "      <td>348647</td>\n",
              "      <td>Bed and breakfast in Quebec · ★4.74 · 1 bedroo...</td>\n",
              "      <td>1764323</td>\n",
              "      <td>Gilles</td>\n",
              "      <td>Vieux-Québec/Cap-Blanc/Colline parlementaire</td>\n",
              "      <td>46.815040</td>\n",
              "      <td>-71.205620</td>\n",
              "      <td>Private room</td>\n",
              "      <td>225.0</td>\n",
              "      <td>1</td>\n",
              "      <td>176</td>\n",
              "      <td>1.28</td>\n",
              "      <td>2</td>\n",
              "      <td>75</td>\n",
              "      <td>17</td>\n",
              "    </tr>\n",
              "    <tr>\n",
              "      <th>4</th>\n",
              "      <td>361573</td>\n",
              "      <td>Bed and breakfast in Quebec · ★4.78 · 1 bedroo...</td>\n",
              "      <td>1764323</td>\n",
              "      <td>Gilles</td>\n",
              "      <td>Vieux-Québec/Cap-Blanc/Colline parlementaire</td>\n",
              "      <td>46.815700</td>\n",
              "      <td>-71.205040</td>\n",
              "      <td>Private room</td>\n",
              "      <td>150.0</td>\n",
              "      <td>1</td>\n",
              "      <td>72</td>\n",
              "      <td>0.53</td>\n",
              "      <td>2</td>\n",
              "      <td>50</td>\n",
              "      <td>2</td>\n",
              "    </tr>\n",
              "    <tr>\n",
              "      <th>6</th>\n",
              "      <td>517628</td>\n",
              "      <td>Townhouse in Quebec · ★4.87 · 5 bedrooms · 5 b...</td>\n",
              "      <td>2216595</td>\n",
              "      <td>Jennifer</td>\n",
              "      <td>Vieux-Québec/Cap-Blanc/Colline parlementaire</td>\n",
              "      <td>46.804320</td>\n",
              "      <td>-71.205590</td>\n",
              "      <td>Entire home/apt</td>\n",
              "      <td>459.0</td>\n",
              "      <td>3</td>\n",
              "      <td>30</td>\n",
              "      <td>0.63</td>\n",
              "      <td>1</td>\n",
              "      <td>49</td>\n",
              "      <td>8</td>\n",
              "    </tr>\n",
              "    <tr>\n",
              "      <th>24</th>\n",
              "      <td>1486117</td>\n",
              "      <td>Nature lodge in Quebec · ★4.40 · 1 bedroom · 2...</td>\n",
              "      <td>7927151</td>\n",
              "      <td>Denis</td>\n",
              "      <td>Vieux-Québec/Cap-Blanc/Colline parlementaire</td>\n",
              "      <td>46.813860</td>\n",
              "      <td>-71.202010</td>\n",
              "      <td>Private room</td>\n",
              "      <td>190.0</td>\n",
              "      <td>2</td>\n",
              "      <td>178</td>\n",
              "      <td>1.48</td>\n",
              "      <td>7</td>\n",
              "      <td>46</td>\n",
              "      <td>23</td>\n",
              "    </tr>\n",
              "    <tr>\n",
              "      <th>25</th>\n",
              "      <td>1486498</td>\n",
              "      <td>Nature lodge in Quebec · ★4.64 · 1 bedroom · 1...</td>\n",
              "      <td>7927151</td>\n",
              "      <td>Denis</td>\n",
              "      <td>Vieux-Québec/Cap-Blanc/Colline parlementaire</td>\n",
              "      <td>46.814080</td>\n",
              "      <td>-71.204550</td>\n",
              "      <td>Private room</td>\n",
              "      <td>210.0</td>\n",
              "      <td>2</td>\n",
              "      <td>220</td>\n",
              "      <td>1.90</td>\n",
              "      <td>7</td>\n",
              "      <td>40</td>\n",
              "      <td>22</td>\n",
              "    </tr>\n",
              "    <tr>\n",
              "      <th>...</th>\n",
              "      <td>...</td>\n",
              "      <td>...</td>\n",
              "      <td>...</td>\n",
              "      <td>...</td>\n",
              "      <td>...</td>\n",
              "      <td>...</td>\n",
              "      <td>...</td>\n",
              "      <td>...</td>\n",
              "      <td>...</td>\n",
              "      <td>...</td>\n",
              "      <td>...</td>\n",
              "      <td>...</td>\n",
              "      <td>...</td>\n",
              "      <td>...</td>\n",
              "      <td>...</td>\n",
              "    </tr>\n",
              "    <tr>\n",
              "      <th>2090</th>\n",
              "      <td>899192485158951984</td>\n",
              "      <td>Rental unit in Québec · ★New · 1 bedroom · 1 b...</td>\n",
              "      <td>233022418</td>\n",
              "      <td>Alek</td>\n",
              "      <td>Vieux-Québec/Cap-Blanc/Colline parlementaire</td>\n",
              "      <td>46.797390</td>\n",
              "      <td>-71.221202</td>\n",
              "      <td>Entire home/apt</td>\n",
              "      <td>141.0</td>\n",
              "      <td>2</td>\n",
              "      <td>2</td>\n",
              "      <td>2.00</td>\n",
              "      <td>1</td>\n",
              "      <td>312</td>\n",
              "      <td>2</td>\n",
              "    </tr>\n",
              "    <tr>\n",
              "      <th>2099</th>\n",
              "      <td>900187257804085812</td>\n",
              "      <td>Rental unit in Québec · ★5.0 · 2 bedrooms · 2 ...</td>\n",
              "      <td>467793070</td>\n",
              "      <td>David</td>\n",
              "      <td>Vieux-Québec/Cap-Blanc/Colline parlementaire</td>\n",
              "      <td>46.805117</td>\n",
              "      <td>-71.217797</td>\n",
              "      <td>Entire home/apt</td>\n",
              "      <td>248.0</td>\n",
              "      <td>1</td>\n",
              "      <td>9</td>\n",
              "      <td>9.00</td>\n",
              "      <td>2</td>\n",
              "      <td>341</td>\n",
              "      <td>9</td>\n",
              "    </tr>\n",
              "    <tr>\n",
              "      <th>2100</th>\n",
              "      <td>900548210147862117</td>\n",
              "      <td>Rental unit in Québec · ★3.83 · 2 bedrooms · 2...</td>\n",
              "      <td>419586074</td>\n",
              "      <td>Cindy</td>\n",
              "      <td>Vieux-Québec/Cap-Blanc/Colline parlementaire</td>\n",
              "      <td>46.813850</td>\n",
              "      <td>-71.207630</td>\n",
              "      <td>Entire home/apt</td>\n",
              "      <td>279.0</td>\n",
              "      <td>2</td>\n",
              "      <td>6</td>\n",
              "      <td>5.45</td>\n",
              "      <td>1</td>\n",
              "      <td>222</td>\n",
              "      <td>6</td>\n",
              "    </tr>\n",
              "    <tr>\n",
              "      <th>2144</th>\n",
              "      <td>918039159870466763</td>\n",
              "      <td>Rental unit in Québec · ★New · 2 bedrooms · 2 ...</td>\n",
              "      <td>284998802</td>\n",
              "      <td>Manoir</td>\n",
              "      <td>Vieux-Québec/Cap-Blanc/Colline parlementaire</td>\n",
              "      <td>46.811439</td>\n",
              "      <td>-71.210538</td>\n",
              "      <td>Entire home/apt</td>\n",
              "      <td>374.0</td>\n",
              "      <td>3</td>\n",
              "      <td>1</td>\n",
              "      <td>1.00</td>\n",
              "      <td>7</td>\n",
              "      <td>361</td>\n",
              "      <td>1</td>\n",
              "    </tr>\n",
              "    <tr>\n",
              "      <th>2146</th>\n",
              "      <td>918074453608001906</td>\n",
              "      <td>Rental unit in Québec · ★New · 2 bedrooms · 2 ...</td>\n",
              "      <td>284998802</td>\n",
              "      <td>Manoir</td>\n",
              "      <td>Vieux-Québec/Cap-Blanc/Colline parlementaire</td>\n",
              "      <td>46.811439</td>\n",
              "      <td>-71.210538</td>\n",
              "      <td>Entire home/apt</td>\n",
              "      <td>374.0</td>\n",
              "      <td>3</td>\n",
              "      <td>2</td>\n",
              "      <td>2.00</td>\n",
              "      <td>7</td>\n",
              "      <td>357</td>\n",
              "      <td>2</td>\n",
              "    </tr>\n",
              "  </tbody>\n",
              "</table>\n",
              "<p>207 rows × 15 columns</p>\n",
              "</div>\n",
              "      <button class=\"colab-df-convert\" onclick=\"convertToInteractive('df-55aee243-6f60-4ec8-862c-5ef53b3c2870')\"\n",
              "              title=\"Convert this dataframe to an interactive table.\"\n",
              "              style=\"display:none;\">\n",
              "\n",
              "  <svg xmlns=\"http://www.w3.org/2000/svg\" height=\"24px\"viewBox=\"0 0 24 24\"\n",
              "       width=\"24px\">\n",
              "    <path d=\"M0 0h24v24H0V0z\" fill=\"none\"/>\n",
              "    <path d=\"M18.56 5.44l.94 2.06.94-2.06 2.06-.94-2.06-.94-.94-2.06-.94 2.06-2.06.94zm-11 1L8.5 8.5l.94-2.06 2.06-.94-2.06-.94L8.5 2.5l-.94 2.06-2.06.94zm10 10l.94 2.06.94-2.06 2.06-.94-2.06-.94-.94-2.06-.94 2.06-2.06.94z\"/><path d=\"M17.41 7.96l-1.37-1.37c-.4-.4-.92-.59-1.43-.59-.52 0-1.04.2-1.43.59L10.3 9.45l-7.72 7.72c-.78.78-.78 2.05 0 2.83L4 21.41c.39.39.9.59 1.41.59.51 0 1.02-.2 1.41-.59l7.78-7.78 2.81-2.81c.8-.78.8-2.07 0-2.86zM5.41 20L4 18.59l7.72-7.72 1.47 1.35L5.41 20z\"/>\n",
              "  </svg>\n",
              "      </button>\n",
              "\n",
              "\n",
              "\n",
              "    <div id=\"df-449a4729-0b45-4ceb-9099-8a720f9dfba5\">\n",
              "      <button class=\"colab-df-quickchart\" onclick=\"quickchart('df-449a4729-0b45-4ceb-9099-8a720f9dfba5')\"\n",
              "              title=\"Suggest charts.\"\n",
              "              style=\"display:none;\">\n",
              "\n",
              "<svg xmlns=\"http://www.w3.org/2000/svg\" height=\"24px\"viewBox=\"0 0 24 24\"\n",
              "     width=\"24px\">\n",
              "    <g>\n",
              "        <path d=\"M19 3H5c-1.1 0-2 .9-2 2v14c0 1.1.9 2 2 2h14c1.1 0 2-.9 2-2V5c0-1.1-.9-2-2-2zM9 17H7v-7h2v7zm4 0h-2V7h2v10zm4 0h-2v-4h2v4z\"/>\n",
              "    </g>\n",
              "</svg>\n",
              "      </button>\n",
              "    </div>\n",
              "\n",
              "<style>\n",
              "  .colab-df-quickchart {\n",
              "    background-color: #E8F0FE;\n",
              "    border: none;\n",
              "    border-radius: 50%;\n",
              "    cursor: pointer;\n",
              "    display: none;\n",
              "    fill: #1967D2;\n",
              "    height: 32px;\n",
              "    padding: 0 0 0 0;\n",
              "    width: 32px;\n",
              "  }\n",
              "\n",
              "  .colab-df-quickchart:hover {\n",
              "    background-color: #E2EBFA;\n",
              "    box-shadow: 0px 1px 2px rgba(60, 64, 67, 0.3), 0px 1px 3px 1px rgba(60, 64, 67, 0.15);\n",
              "    fill: #174EA6;\n",
              "  }\n",
              "\n",
              "  [theme=dark] .colab-df-quickchart {\n",
              "    background-color: #3B4455;\n",
              "    fill: #D2E3FC;\n",
              "  }\n",
              "\n",
              "  [theme=dark] .colab-df-quickchart:hover {\n",
              "    background-color: #434B5C;\n",
              "    box-shadow: 0px 1px 3px 1px rgba(0, 0, 0, 0.15);\n",
              "    filter: drop-shadow(0px 1px 2px rgba(0, 0, 0, 0.3));\n",
              "    fill: #FFFFFF;\n",
              "  }\n",
              "</style>\n",
              "\n",
              "    <script>\n",
              "      async function quickchart(key) {\n",
              "        const containerElement = document.querySelector('#' + key);\n",
              "        const charts = await google.colab.kernel.invokeFunction(\n",
              "            'suggestCharts', [key], {});\n",
              "      }\n",
              "    </script>\n",
              "\n",
              "      <script>\n",
              "\n",
              "function displayQuickchartButton(domScope) {\n",
              "  let quickchartButtonEl =\n",
              "    domScope.querySelector('#df-449a4729-0b45-4ceb-9099-8a720f9dfba5 button.colab-df-quickchart');\n",
              "  quickchartButtonEl.style.display =\n",
              "    google.colab.kernel.accessAllowed ? 'block' : 'none';\n",
              "}\n",
              "\n",
              "        displayQuickchartButton(document);\n",
              "      </script>\n",
              "      <style>\n",
              "    .colab-df-container {\n",
              "      display:flex;\n",
              "      flex-wrap:wrap;\n",
              "      gap: 12px;\n",
              "    }\n",
              "\n",
              "    .colab-df-convert {\n",
              "      background-color: #E8F0FE;\n",
              "      border: none;\n",
              "      border-radius: 50%;\n",
              "      cursor: pointer;\n",
              "      display: none;\n",
              "      fill: #1967D2;\n",
              "      height: 32px;\n",
              "      padding: 0 0 0 0;\n",
              "      width: 32px;\n",
              "    }\n",
              "\n",
              "    .colab-df-convert:hover {\n",
              "      background-color: #E2EBFA;\n",
              "      box-shadow: 0px 1px 2px rgba(60, 64, 67, 0.3), 0px 1px 3px 1px rgba(60, 64, 67, 0.15);\n",
              "      fill: #174EA6;\n",
              "    }\n",
              "\n",
              "    [theme=dark] .colab-df-convert {\n",
              "      background-color: #3B4455;\n",
              "      fill: #D2E3FC;\n",
              "    }\n",
              "\n",
              "    [theme=dark] .colab-df-convert:hover {\n",
              "      background-color: #434B5C;\n",
              "      box-shadow: 0px 1px 3px 1px rgba(0, 0, 0, 0.15);\n",
              "      filter: drop-shadow(0px 1px 2px rgba(0, 0, 0, 0.3));\n",
              "      fill: #FFFFFF;\n",
              "    }\n",
              "  </style>\n",
              "\n",
              "      <script>\n",
              "        const buttonEl =\n",
              "          document.querySelector('#df-55aee243-6f60-4ec8-862c-5ef53b3c2870 button.colab-df-convert');\n",
              "        buttonEl.style.display =\n",
              "          google.colab.kernel.accessAllowed ? 'block' : 'none';\n",
              "\n",
              "        async function convertToInteractive(key) {\n",
              "          const element = document.querySelector('#df-55aee243-6f60-4ec8-862c-5ef53b3c2870');\n",
              "          const dataTable =\n",
              "            await google.colab.kernel.invokeFunction('convertToInteractive',\n",
              "                                                     [key], {});\n",
              "          if (!dataTable) return;\n",
              "\n",
              "          const docLinkHtml = 'Like what you see? Visit the ' +\n",
              "            '<a target=\"_blank\" href=https://colab.research.google.com/notebooks/data_table.ipynb>data table notebook</a>'\n",
              "            + ' to learn more about interactive tables.';\n",
              "          element.innerHTML = '';\n",
              "          dataTable['output_type'] = 'display_data';\n",
              "          await google.colab.output.renderOutput(dataTable, element);\n",
              "          const docLink = document.createElement('div');\n",
              "          docLink.innerHTML = docLinkHtml;\n",
              "          element.appendChild(docLink);\n",
              "        }\n",
              "      </script>\n",
              "    </div>\n",
              "  </div>\n"
            ]
          },
          "metadata": {},
          "execution_count": 228
        }
      ],
      "source": [
        "# ver quantidade de imóveis no Vieux-Québec/Cap-Blanc/Colline parlementaire\n",
        "print(df_clean[df_clean.neighbourhood == \"Pointe-de-Sainte-Foy\"].shape)\n",
        "\n",
        "# ver as 3 entradas do Complexo do Vieux-Québec/Cap-Blanc/Colline parlementaire\n",
        "df_clean[df_clean.neighbourhood == \"Vieux-Québec/Cap-Blanc/Colline parlementaire\"]"
      ]
    },
    {
      "cell_type": "code",
      "execution_count": null,
      "metadata": {
        "colab": {
          "base_uri": "https://localhost:8080/",
          "height": 696
        },
        "id": "UxVJqJ_3W59I",
        "outputId": "71826420-3dc6-4b97-c8a8-2b1623a6c942"
      },
      "outputs": [
        {
          "output_type": "display_data",
          "data": {
            "text/plain": [
              "<Figure size 1200x800 with 2 Axes>"
            ],
            "image/png": "[encoded data removed]"
          },
          "metadata": {}
        }
      ],
      "source": [
        "# plotar os imóveis pela latitude-longitude\n",
        "df_clean.plot(kind=\"scatter\", x='longitude', y='latitude', alpha=0.4, c=df_clean['price'], s=8,\n",
        "        cmap=plt.get_cmap('jet'), figsize=(12,8));"
      ]
    },
    {
      "cell_type": "markdown",
      "metadata": {
        "id": "vTneAMRUYvr1"
      },
      "source": [
        "### **Q7. Qual é a média do mínimo de noites para aluguel (minimum_nights)?**"
      ]
    },
    {
      "cell_type": "code",
      "execution_count": null,
      "metadata": {
        "colab": {
          "base_uri": "https://localhost:8080/"
        },
        "id": "_VzNhrEgY82N",
        "outputId": "6bec9fab-dc3a-4b9e-f9a2-51596c6505cc"
      },
      "outputs": [
        {
          "output_type": "execute_result",
          "data": {
            "text/plain": [
              "1.0"
            ]
          },
          "metadata": {},
          "execution_count": 230
        }
      ],
      "source": [
        "# ver a média da coluna `minimum_nights``\n",
        "df_clean.minimum_nights.median()"
      ]
    },
    {
      "cell_type": "markdown",
      "metadata": {
        "id": "GkvAg623RjoR"
      },
      "source": [
        "## Conclusões\n",
        "\n",
        "Foi feita uma análise mais superficial de dados disponibilizados pelo Airbnb na região de Quebec(Canadá). Com esses dados analisados, foram identificados presenças de outliers e realizado a limpeza dos dados.\n",
        "Os dados apresentam que o tipo de imóvel mais alugado é casa inteira/apartamento com 62,17%, enquanto quartos privativos representam 9%.\n",
        "Conforme os dados, a região mais cara é Pointe-de-Sainte-Foy."
      ]
    }
  ],
  "metadata": {
    "colab": {
      "provenance": [],
      "include_colab_link": true
    },
    "kernelspec": {
      "display_name": "Python 3",
      "name": "python3"
    }
  },
  "nbformat": 4,
  "nbformat_minor": 0
}